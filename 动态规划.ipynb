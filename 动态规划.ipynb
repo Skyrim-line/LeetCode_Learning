{
 "cells": [
  {
   "cell_type": "code",
   "execution_count": 3,
   "id": "initial_id",
   "metadata": {
    "collapsed": true,
    "ExecuteTime": {
     "end_time": "2024-01-28T05:42:21.944392Z",
     "start_time": "2024-01-28T05:42:21.940682Z"
    }
   },
   "outputs": [
    {
     "name": "stdout",
     "output_type": "stream",
     "text": [
      "**********************************************************************\n",
      "File \"__main__\", line 6, in __main__.f\n",
      "Failed example:\n",
      "    f(4, 1)\n",
      "Exception raised:\n",
      "    Traceback (most recent call last):\n",
      "      File \"/Users/skyrim/anaconda3/lib/python3.10/doctest.py\", line 1350, in __run\n",
      "        exec(compile(example.source, filename, \"single\",\n",
      "      File \"<doctest __main__.f[1]>\", line 1, in <module>\n",
      "        f(4, 1)\n",
      "      File \"/var/folders/cc/m88k5mdj7ysgmbgkj4tk6n1w0000gn/T/ipykernel_13465/1636558507.py\", line 27, in f\n",
      "        line+=chr(ord('A'+cur_offset))\n",
      "    TypeError: can only concatenate str (not \"int\") to str\n",
      "**********************************************************************\n",
      "File \"__main__\", line 11, in __main__.f\n",
      "Failed example:\n",
      "    f(1, 4)\n",
      "Exception raised:\n",
      "    Traceback (most recent call last):\n",
      "      File \"/Users/skyrim/anaconda3/lib/python3.10/doctest.py\", line 1350, in __run\n",
      "        exec(compile(example.source, filename, \"single\",\n",
      "      File \"<doctest __main__.f[2]>\", line 1, in <module>\n",
      "        f(1, 4)\n",
      "      File \"/var/folders/cc/m88k5mdj7ysgmbgkj4tk6n1w0000gn/T/ipykernel_13465/1636558507.py\", line 27, in f\n",
      "        line+=chr(ord('A'+cur_offset))\n",
      "    TypeError: can only concatenate str (not \"int\") to str\n",
      "**********************************************************************\n",
      "File \"__main__\", line 13, in __main__.f\n",
      "Failed example:\n",
      "    f(4, 4, 'X')\n",
      "Exception raised:\n",
      "    Traceback (most recent call last):\n",
      "      File \"/Users/skyrim/anaconda3/lib/python3.10/doctest.py\", line 1350, in __run\n",
      "        exec(compile(example.source, filename, \"single\",\n",
      "      File \"<doctest __main__.f[3]>\", line 1, in <module>\n",
      "        f(4, 4, 'X')\n",
      "      File \"/var/folders/cc/m88k5mdj7ysgmbgkj4tk6n1w0000gn/T/ipykernel_13465/1636558507.py\", line 27, in f\n",
      "        line+=chr(ord('A'+cur_offset))\n",
      "    TypeError: can only concatenate str (not \"int\") to str\n",
      "**********************************************************************\n",
      "1 items had failures:\n",
      "   3 of   4 in __main__.f\n",
      "***Test Failed*** 3 failures.\n"
     ]
    }
   ],
   "source": [
    "# 蛇形打印，从一个别的字母开始，\n",
    "# 蛇形打印是从A开始，别的是从 O 开始\n",
    "def f(height, width, starting_with = 'A'):\n",
    "    '''\n",
    "    >>> f(0, 0)\n",
    "    >>> f(4, 1)\n",
    "    A\n",
    "    B\n",
    "    C\n",
    "    D\n",
    "    >>> f(1, 4)\n",
    "    ABCD\n",
    "    >>> f(4, 4, 'X')\n",
    "    XEFM\n",
    "    YDGL\n",
    "    ZCHK\n",
    "    ABIJ\n",
    "    '''\n",
    "    from itertools import zip_longest\n",
    "    offset=ord(starting_with)-ord('A')\n",
    "    count=0\n",
    "    lines=[]\n",
    "    for col in range(width):\n",
    "        line=''\n",
    "        for row in range(height):\n",
    "            cur_offset=(offset+count)%26\n",
    "            line+=chr(ord('A'+cur_offset))\n",
    "            count+=1\n",
    "        if col%2!=0:\n",
    "            lines.append(line[::-1])\n",
    "        else:\n",
    "            lines.append(line)\n",
    "        lines.append(line)\n",
    "    for line in zip_longest(*lines):\n",
    "        print(''.join(line).rstrip())\n",
    "            \n",
    "\n",
    "\n",
    "\n",
    "if __name__ == '__main__':\n",
    "    import doctest\n",
    "\n",
    "    doctest.testmod()\n"
   ]
  },
  {
   "cell_type": "code",
   "execution_count": null,
   "outputs": [],
   "source": [
    "# a = \"abcd\"\n",
    "# b = (\"cdabcda\")\n",
    "a='abc'\n",
    "b='def'\n",
    "times=1\n",
    "if set(a)!=set(b):\n",
    "    print(-1)\n",
    "else:\n",
    "    while b not in a:\n",
    "        \n",
    "        a=a*times\n",
    "        times+=1\n",
    "        \n",
    "    print(times-1)"
   ],
   "metadata": {
    "collapsed": false,
    "ExecuteTime": {
     "start_time": "2024-01-28T23:34:25.709908Z"
    }
   },
   "id": "95e9c90fa7be3416"
  },
  {
   "cell_type": "code",
   "execution_count": null,
   "outputs": [],
   "source": [
    "a = \"abc\"\n",
    "b = \"cabcabca\"\n",
    "# a='abc'\n",
    "# b='def'\n",
    "if set(a)!=set(b):\n",
    "    print(-1)\n",
    "elif a==b:\n",
    "    print(1)\n",
    "else:\n",
    "    t=2\n",
    "    temp=a\n",
    "    while b not in temp:\n",
    "        temp*=t\n",
    "        t+=1\n",
    "    print(t) "
   ],
   "metadata": {
    "collapsed": false,
    "is_executing": true
   },
   "id": "4854aa726397c1b7"
  },
  {
   "cell_type": "code",
   "execution_count": null,
   "outputs": [],
   "source": [
    "a = \"abc\"\n",
    "b = \"cabcabca\"\n",
    "# a='abc'\n",
    "# b='def'\n",
    "if set(a)!=set(b):\n",
    "    print(-1)\n",
    "elif a==b:\n",
    "    print(1)\n",
    "else:\n",
    "    t=2\n",
    "    temp=a\n",
    "    while b not in temp:\n",
    "        temp*=t\n",
    "        t+=1\n",
    "    print(t) "
   ],
   "metadata": {
    "collapsed": false,
    "is_executing": true
   },
   "id": "1d0a5660b80a54b6"
  },
  {
   "cell_type": "code",
   "execution_count": 11,
   "outputs": [
    {
     "name": "stdout",
     "output_type": "stream",
     "text": [
      "abcabcabcabc\n",
      "8 12\n"
     ]
    }
   ],
   "source": [
    "a = \"abc\"\n",
    "b = \"cabcabca\"\n",
    "# b=\"cdabcdab\"\n",
    "# a='abc'\n",
    "# b='def'\n",
    "print(a*4)\n",
    "print(len(b),len(a*4))\n",
    "if b in a*4:\n",
    "    print('Y')\n",
    "    \n",
    "    \n",
    "        \n",
    "    "
   ],
   "metadata": {
    "collapsed": false,
    "ExecuteTime": {
     "end_time": "2024-01-29T01:12:48.155572Z",
     "start_time": "2024-01-29T01:12:48.153258Z"
    }
   },
   "id": "e437367d863cf5"
  },
  {
   "cell_type": "code",
   "execution_count": 26,
   "outputs": [
    {
     "name": "stdout",
     "output_type": "stream",
     "text": [
      "bb\n",
      "Y\n"
     ]
    }
   ],
   "source": [
    "s='bb'\n",
    "temp=s*2\n",
    "temp=temp[1:-1]\n",
    "print(temp)\n",
    "if s in temp:\n",
    "    print('Y')\n"
   ],
   "metadata": {
    "collapsed": false,
    "ExecuteTime": {
     "end_time": "2024-01-29T01:31:14.987881Z",
     "start_time": "2024-01-29T01:31:14.983752Z"
    }
   },
   "id": "3e95dff77a702ef2"
  },
  {
   "cell_type": "code",
   "execution_count": 46,
   "outputs": [
    {
     "name": "stdout",
     "output_type": "stream",
     "text": [
      "3\n"
     ]
    }
   ],
   "source": [
    "# s = \"pwwkew\"\n",
    "s='abcabcbb'\n",
    "dict1={}\n",
    "temp=''\n",
    "\n",
    "for cur in range(len(s)):\n",
    "    # 如果当前的字母在temp中没有出现过则将其加入到temp中如果出现过则跳过，将temp加入字典\n",
    "    if s[cur] not in temp:\n",
    "        temp+=s[cur]\n",
    "    else:\n",
    "        dict1[len(temp)]=temp\n",
    "        temp=''\n",
    "        temp+=s[cur]\n",
    "print(max(dict1))\n"
   ],
   "metadata": {
    "collapsed": false,
    "ExecuteTime": {
     "end_time": "2024-01-29T13:01:36.873009Z",
     "start_time": "2024-01-29T13:01:36.871071Z"
    }
   },
   "id": "1f9e2226e05f3082"
  },
  {
   "cell_type": "code",
   "execution_count": 40,
   "outputs": [
    {
     "name": "stdout",
     "output_type": "stream",
     "text": [
      "\n",
      "0\n"
     ]
    }
   ],
   "source": [
    "s = \"pwwkew\"\n",
    "length=0\n",
    "l=r=0\n",
    "print(s[2:2])\n",
    "while r < len(s): \n",
    "    if s[r] not in s[l:r]:\n",
    "        r+=1\n",
    "        length=max(length,l-r)\n",
    "    else:\n",
    "        l+=1\n",
    "print(length)\n",
    "        \n",
    "\n",
    "        "
   ],
   "metadata": {
    "collapsed": false,
    "ExecuteTime": {
     "end_time": "2024-01-29T12:44:38.862405Z",
     "start_time": "2024-01-29T12:44:38.858932Z"
    }
   },
   "id": "9885a3a074238604"
  },
  {
   "cell_type": "code",
   "execution_count": 8,
   "outputs": [
    {
     "data": {
      "text/plain": "5"
     },
     "execution_count": 8,
     "metadata": {},
     "output_type": "execute_result"
    }
   ],
   "source": [
    "s = \"ccaabbb\"\n",
    "#      2   4\n",
    "# s = \"eceba\"\n",
    "def judge(s):\n",
    "    curlen=0\n",
    "    maxlen=0\n",
    "    store=[]\n",
    "    if not s: return 0\n",
    "    for cur in range(len(s)):\n",
    "        if s[cur] in store or len(set(store))<2:\n",
    "            curlen+=1\n",
    "            store.append(s[cur])\n",
    "        else:\n",
    "            while len(set(store))>=2:\n",
    "                curlen-=1\n",
    "                store.pop(0)\n",
    "            curlen+=1\n",
    "            store.append(s[cur])\n",
    "        maxlen = max(maxlen,curlen)\n",
    "    return maxlen\n",
    "\n",
    "judge('ccaabbb')\n"
   ],
   "metadata": {
    "collapsed": false,
    "ExecuteTime": {
     "end_time": "2024-01-30T03:55:19.274092Z",
     "start_time": "2024-01-30T03:55:19.268536Z"
    }
   },
   "id": "daa3bf8a9d007444"
  },
  {
   "cell_type": "code",
   "execution_count": 13,
   "outputs": [
    {
     "data": {
      "text/plain": "6"
     },
     "execution_count": 13,
     "metadata": {},
     "output_type": "execute_result"
    }
   ],
   "source": [
    "def window(s,k):\n",
    "    from collections import defaultdict\n",
    "    strdict=defaultdict(int)\n",
    "    l,maxlength=0,0\n",
    "    for r in range(len(s)):\n",
    "        strdict[s[r]]+=1\n",
    "        while len(strdict)>k:\n",
    "            if strdict[s[l]]!=0:\n",
    "                strdict[s[l]]-=1\n",
    "            del strdict[s[l]]\n",
    "            l+=1\n",
    "        maxlength=max(maxlength,r-l+1)\n",
    "    return maxlength\n",
    "        \n",
    "window('ccaabbb',2)\n",
    "                \n",
    "        "
   ],
   "metadata": {
    "collapsed": false,
    "ExecuteTime": {
     "end_time": "2024-01-30T05:55:55.838492Z",
     "start_time": "2024-01-30T05:55:55.833586Z"
    }
   },
   "id": "e32076ef5b809f56"
  },
  {
   "cell_type": "code",
   "execution_count": 1,
   "outputs": [
    {
     "name": "stdout",
     "output_type": "stream",
     "text": [
      "0\n"
     ]
    }
   ],
   "source": [
    "print(5%1)\n",
    "    "
   ],
   "metadata": {
    "collapsed": false,
    "ExecuteTime": {
     "end_time": "2024-02-08T10:36:49.215181Z",
     "start_time": "2024-02-08T10:36:49.208089Z"
    }
   },
   "id": "6c207c64bf00294"
  },
  {
   "cell_type": "code",
   "execution_count": 13,
   "outputs": [
    {
     "name": "stdout",
     "output_type": "stream",
     "text": [
      "**********************************************************************\n",
      "File \"__main__\", line 5, in __main__.weird_num\n",
      "Failed example:\n",
      "    weird_num('4i7o')\n",
      "Exception raised:\n",
      "    Traceback (most recent call last):\n",
      "      File \"/Users/skyrim/anaconda3/lib/python3.10/doctest.py\", line 1350, in __run\n",
      "        exec(compile(example.source, filename, \"single\",\n",
      "      File \"<doctest __main__.weird_num[0]>\", line 1, in <module>\n",
      "        weird_num('4i7o')\n",
      "      File \"/var/folders/cc/m88k5mdj7ysgmbgkj4tk6n1w0000gn/T/ipykernel_33004/2814979687.py\", line 17, in weird_num\n",
      "        sample+=int(x[n])*'1'\n",
      "    ValueError: invalid literal for int() with base 10: 'i'\n",
      "**********************************************************************\n",
      "File \"__main__\", line 7, in __main__.weird_num\n",
      "Failed example:\n",
      "    weird_num('3i2o7o2i')\n",
      "Exception raised:\n",
      "    Traceback (most recent call last):\n",
      "      File \"/Users/skyrim/anaconda3/lib/python3.10/doctest.py\", line 1350, in __run\n",
      "        exec(compile(example.source, filename, \"single\",\n",
      "      File \"<doctest __main__.weird_num[1]>\", line 1, in <module>\n",
      "        weird_num('3i2o7o2i')\n",
      "      File \"/var/folders/cc/m88k5mdj7ysgmbgkj4tk6n1w0000gn/T/ipykernel_33004/2814979687.py\", line 17, in weird_num\n",
      "        sample+=int(x[n])*'1'\n",
      "    ValueError: invalid literal for int() with base 10: 'i'\n",
      "**********************************************************************\n",
      "File \"__main__\", line 9, in __main__.weird_num\n",
      "Failed example:\n",
      "    weird_num('3i2o27i4o')\n",
      "Exception raised:\n",
      "    Traceback (most recent call last):\n",
      "      File \"/Users/skyrim/anaconda3/lib/python3.10/doctest.py\", line 1350, in __run\n",
      "        exec(compile(example.source, filename, \"single\",\n",
      "      File \"<doctest __main__.weird_num[2]>\", line 1, in <module>\n",
      "        weird_num('3i2o27i4o')\n",
      "      File \"/var/folders/cc/m88k5mdj7ysgmbgkj4tk6n1w0000gn/T/ipykernel_33004/2814979687.py\", line 17, in weird_num\n",
      "        sample+=int(x[n])*'1'\n",
      "    ValueError: invalid literal for int() with base 10: 'i'\n",
      "**********************************************************************\n",
      "1 items had failures:\n",
      "   3 of   3 in __main__.weird_num\n",
      "***Test Failed*** 3 failures.\n"
     ]
    }
   ],
   "source": [
    "#将输入的格式为 4i7o的字符串识别转换成二级制数字再转成十进制,i代表1，o代表0\n",
    "\n",
    "def weird_num(x):\n",
    "    '''\n",
    "    >>> weird_num('4i7o')\n",
    "    This is a weird form of 11110000000 , the base 10 is 1920.\n",
    "    >>> weird_num('3i2o7o2i')\n",
    "    This is a weird form of 11100000000011 , the base 10 is 14339.\n",
    "    >>> weird_num('3i2o27i4o')\n",
    "    This is a weird form of 111001111111111111111111111111110000 , the base 10 is 62277025776.\n",
    "    '''\n",
    "    # insert your code here\n",
    "\n",
    "    sample=''\n",
    "    for n in range(len(x)):\n",
    "        if x[n]=='i':\n",
    "            sample+=int(x[n])*'1'\n",
    "        elif x[n]=='o':\n",
    "            sample+=int(x[n])*'0'\n",
    "        else:\n",
    "            sample+=x[n]\n",
    "    result=int(sample,2)\n",
    "    print(f'This is a weird form of {sample} , the base 10 is {result}.')\n",
    "    \n",
    "\n",
    "\n",
    "\n",
    "if __name__ == '__main__':\n",
    "    import doctest\n",
    "\n",
    "    doctest.testmod()"
   ],
   "metadata": {
    "collapsed": false,
    "ExecuteTime": {
     "end_time": "2024-02-08T12:30:02.554207Z",
     "start_time": "2024-02-08T12:30:02.543388Z"
    }
   },
   "id": "878bec7d96b74651"
  },
  {
   "cell_type": "code",
   "execution_count": 5,
   "outputs": [
    {
     "name": "stdout",
     "output_type": "stream",
     "text": [
      "0b1000001001010\n"
     ]
    }
   ],
   "source": [
    "s=4170\n",
    "\n",
    "print(bin(s))"
   ],
   "metadata": {
    "collapsed": false,
    "ExecuteTime": {
     "end_time": "2024-02-08T10:43:42.432877Z",
     "start_time": "2024-02-08T10:43:42.423581Z"
    }
   },
   "id": "a7fd7bc2c0c5537b"
  },
  {
   "cell_type": "code",
   "execution_count": 6,
   "outputs": [
    {
     "name": "stdout",
     "output_type": "stream",
     "text": [
      "b101011101\n"
     ]
    }
   ],
   "source": [
    "x = bin(349)\n",
    "print(x[1:])"
   ],
   "metadata": {
    "collapsed": false,
    "ExecuteTime": {
     "end_time": "2024-02-23T04:53:37.207302Z",
     "start_time": "2024-02-23T04:53:37.199507Z"
    }
   },
   "id": "8835e32df7e4db47"
  },
  {
   "cell_type": "code",
   "execution_count": 8,
   "outputs": [
    {
     "name": "stdout",
     "output_type": "stream",
     "text": [
      "101011101\n"
     ]
    }
   ],
   "source": [
    "x = bin(349)\n",
    "print(x[2:]) "
   ],
   "metadata": {
    "collapsed": false,
    "ExecuteTime": {
     "end_time": "2024-02-23T04:53:53.087688Z",
     "start_time": "2024-02-23T04:53:53.083675Z"
    }
   },
   "id": "e210052368844f98"
  },
  {
   "cell_type": "code",
   "execution_count": null,
   "outputs": [],
   "source": [],
   "metadata": {
    "collapsed": false
   },
   "id": "ea9d35ed55b81f14"
  }
 ],
 "metadata": {
  "kernelspec": {
   "display_name": "Python 3",
   "language": "python",
   "name": "python3"
  },
  "language_info": {
   "codemirror_mode": {
    "name": "ipython",
    "version": 2
   },
   "file_extension": ".py",
   "mimetype": "text/x-python",
   "name": "python",
   "nbconvert_exporter": "python",
   "pygments_lexer": "ipython2",
   "version": "2.7.6"
  }
 },
 "nbformat": 4,
 "nbformat_minor": 5
}
