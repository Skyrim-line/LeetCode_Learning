{
 "cells": [
  {
   "cell_type": "markdown",
   "source": [
    "# 1."
   ],
   "metadata": {
    "collapsed": false
   },
   "id": "d4627e9c96c18d02"
  },
  {
   "cell_type": "code",
   "execution_count": 22,
   "outputs": [
    {
     "name": "stdout",
     "output_type": "stream",
     "text": [
      "apbqrs\n"
     ]
    }
   ],
   "source": [
    "word1 = \"ab\"\n",
    "word2 = \"pqrs\"\n",
    "result = []\n",
    "if len(word1)==len(word2):\n",
    "    for i in range(len(word1)):\n",
    "        result.append(word1[i])\n",
    "        result.append(word2[i])\n",
    "elif len(word1)>len(word2):\n",
    "    for i in range(len(word2)):\n",
    "        result.append(word1[i])\n",
    "        result.append(word2[i])\n",
    "    for j in word1[len(word2):]:\n",
    "        result.append(j)\n",
    "else:\n",
    "    for i in range(len(word1)):\n",
    "        result.append(word1[i])\n",
    "        result.append(word2[i])\n",
    "    for j in word2[len(word1):]:\n",
    "        result.append(j)\n",
    "    \n",
    "print(''.join(result))"
   ],
   "metadata": {
    "collapsed": false,
    "ExecuteTime": {
     "end_time": "2023-12-08T03:30:48.665968Z",
     "start_time": "2023-12-08T03:30:48.662027Z"
    }
   },
   "id": "54fb0b4de44a47fa"
  },
  {
   "cell_type": "markdown",
   "source": [
    " # 找不同\n",
    " "
   ],
   "metadata": {
    "collapsed": false
   },
   "id": "5f0e9af2f279a1c"
  },
  {
   "cell_type": "code",
   "execution_count": 20,
   "outputs": [
    {
     "name": "stdout",
     "output_type": "stream",
     "text": [
      "a\n"
     ]
    }
   ],
   "source": [
    "from collections import Counter\n",
    "word1 ='a'\n",
    "word2= 'aa'\n",
    "diff = list(Counter(word2)-Counter(word1))\n",
    "print(diff[0])\n",
    "\n"
   ],
   "metadata": {
    "collapsed": false,
    "ExecuteTime": {
     "end_time": "2023-12-13T05:44:38.039893Z",
     "start_time": "2023-12-13T05:44:38.037527Z"
    }
   },
   "id": "85d544315d9575c"
  },
  {
   "cell_type": "markdown",
   "source": [
    "# 找出第一个匹配的下标"
   ],
   "metadata": {
    "collapsed": false
   },
   "id": "3549a1fd21aa9d5b"
  },
  {
   "cell_type": "code",
   "execution_count": 32,
   "outputs": [
    {
     "name": "stdout",
     "output_type": "stream",
     "text": [
      "0\n"
     ]
    }
   ],
   "source": [
    "haystack = \"sadbutsad\"\n",
    "needle = 'sad'\n",
    "# haystack = \"leetcode\"\n",
    "# needle = \"leeto\"\n",
    "# if needle in haystack:\n",
    "#     print(haystack.index(needle))\n",
    "# else:\n",
    "#     print(-1)\n",
    "print(haystack.find(needle))\n"
   ],
   "metadata": {
    "collapsed": false,
    "ExecuteTime": {
     "end_time": "2023-12-14T23:44:41.975751Z",
     "start_time": "2023-12-14T23:44:41.970841Z"
    }
   },
   "id": "a4a0b9f52aef1f5a"
  },
  {
   "cell_type": "markdown",
   "source": [
    "# 字母异或词"
   ],
   "metadata": {
    "collapsed": false
   },
   "id": "74705d4ff6b0a77b"
  },
  {
   "cell_type": "code",
   "execution_count": 39,
   "outputs": [
    {
     "name": "stdout",
     "output_type": "stream",
     "text": [
      "['a', 'r', 't']\n",
      "['a', 'c', 'r']\n",
      "0\n"
     ]
    }
   ],
   "source": [
    "s = \"rat\"\n",
    "t = \"car\"\n",
    "s = sorted(s)\n",
    "print(s)\n",
    "t = sorted(t)\n",
    "print(t)\n",
    "if s==t:\n",
    "    print(1)\n",
    "else:\n",
    "    print(0)"
   ],
   "metadata": {
    "collapsed": false,
    "ExecuteTime": {
     "end_time": "2023-12-14T23:58:41.511063Z",
     "start_time": "2023-12-14T23:58:41.506879Z"
    }
   },
   "id": "5166bf89ef2405d2"
  },
  {
   "cell_type": "code",
   "execution_count": 40,
   "outputs": [],
   "source": [
    "class Solution:\n",
    "    def isAnagram(self, s: str, t: str) -> bool:\n",
    "        if Counter(s) == Counter(t):\n",
    "            return True\n",
    "        else: \n",
    "            return False"
   ],
   "metadata": {
    "collapsed": false,
    "ExecuteTime": {
     "end_time": "2023-12-15T00:13:27.595501Z",
     "start_time": "2023-12-15T00:13:27.592885Z"
    }
   },
   "id": "39931b82ee6dc759"
  },
  {
   "cell_type": "markdown",
   "source": [
    "# 重复的子字符串"
   ],
   "metadata": {
    "collapsed": false
   },
   "id": "2c65123d8b88336e"
  },
  {
   "cell_type": "code",
   "execution_count": 52,
   "outputs": [
    {
     "name": "stdout",
     "output_type": "stream",
     "text": [
      "bababa\n",
      "1\n"
     ]
    }
   ],
   "source": [],
   "metadata": {
    "collapsed": false,
    "ExecuteTime": {
     "end_time": "2023-12-15T10:34:25.943708Z",
     "start_time": "2023-12-15T10:34:25.937377Z"
    }
   },
   "id": "396e3ea80a7f01f5"
  },
  {
   "cell_type": "code",
   "execution_count": 46,
   "outputs": [
    {
     "name": "stdout",
     "output_type": "stream",
     "text": [
      "ab\n"
     ]
    }
   ],
   "source": [
    "s2 = \"ababab\"\n",
    "print(s[2:4])\n",
    "class Solution:\n",
    "    def repeatedSubstringPattern(self, s: str) -> bool:\n",
    "        temp =1\n",
    "        for i in range(1,len(s)//2+1):  # 1,4\n",
    "            if len(s)%i==0:     # 6 % 2 =0 \n",
    "                #1：如果一个字符串能由一个子字符串重复获得，则该字符串的长度必定能被子字符串长度整除。6%2，8%4\n",
    "\n",
    "                #2：判断字符串的每一节是否相同\n",
    "                m=i # m=2,m 为当前i所能整除的所在位置\n",
    "                while m<= len(s)-i:       # 2<= 6-2 = 4, m的index大于能被s整除的字串的长度，可以等于          \n",
    "                    if s[m-i:m]!=s[m:m+i]: # s[2:4] != s[4:6]\n",
    "                        temp= 0\n",
    "                        break\n",
    "                    else:\n",
    "                        temp= 1\n",
    "                    m+=i # m = 2+2 = 4 ; 4+3 = 6\n",
    "                    \n",
    "                if temp==1:\n",
    "                    return True\n",
    "        return False\n",
    "\n"
   ],
   "metadata": {
    "collapsed": false,
    "ExecuteTime": {
     "end_time": "2023-12-15T10:28:33.533253Z",
     "start_time": "2023-12-15T10:28:33.530719Z"
    }
   },
   "id": "7410762b21b4820"
  },
  {
   "cell_type": "code",
   "execution_count": 4,
   "outputs": [
    {
     "name": "stdout",
     "output_type": "stream",
     "text": [
      "1\n"
     ]
    }
   ],
   "source": [
    "sample = 'ababab'\n",
    "sample2 = sample+sample\n",
    "if sample in sample2[1:-1]:\n",
    "    print(1)\n",
    "else:\n",
    "    print(0)"
   ],
   "metadata": {
    "collapsed": false,
    "ExecuteTime": {
     "end_time": "2023-12-17T03:57:22.792340Z",
     "start_time": "2023-12-17T03:57:22.789393Z"
    }
   },
   "id": "2ce9d6bcf7112b"
  },
  {
   "cell_type": "markdown",
   "source": [
    "# 移动0"
   ],
   "metadata": {
    "collapsed": false
   },
   "id": "c4f4747e78b58369"
  },
  {
   "cell_type": "code",
   "execution_count": 16,
   "outputs": [
    {
     "name": "stdout",
     "output_type": "stream",
     "text": [
      "[1, 3, 12, 0, 0]\n"
     ]
    }
   ],
   "source": [
    "nums = [0,1,0,3,12]\n",
    "# TODO \n",
    "for i in range(len(nums)):\n",
    "    if nums[i]==0:\n",
    "        temp = nums[i]\n",
    "        nums.remove(nums[i])\n",
    "        nums.append(temp)\n",
    "print(nums)\n",
    "        \n",
    "        \n"
   ],
   "metadata": {
    "collapsed": false,
    "ExecuteTime": {
     "end_time": "2023-12-17T04:41:35.111339Z",
     "start_time": "2023-12-17T04:41:35.101444Z"
    }
   },
   "id": "7a509c63401c2152"
  },
  {
   "cell_type": "code",
   "execution_count": 22,
   "outputs": [
    {
     "ename": "AttributeError",
     "evalue": "'NoneType' object has no attribute 'append'",
     "output_type": "error",
     "traceback": [
      "\u001B[0;31m---------------------------------------------------------------------------\u001B[0m",
      "\u001B[0;31mAttributeError\u001B[0m                            Traceback (most recent call last)",
      "Cell \u001B[0;32mIn[22], line 15\u001B[0m\n\u001B[1;32m     13\u001B[0m     \u001B[38;5;28;01mif\u001B[39;00m nums[i]\u001B[38;5;241m==\u001B[39m\u001B[38;5;241m0\u001B[39m:\n\u001B[1;32m     14\u001B[0m         temp \u001B[38;5;241m=\u001B[39m nums[i]\n\u001B[0;32m---> 15\u001B[0m         \u001B[43mnums\u001B[49m\u001B[38;5;241;43m.\u001B[39;49m\u001B[43mremove\u001B[49m\u001B[43m(\u001B[49m\u001B[43mnums\u001B[49m\u001B[43m[\u001B[49m\u001B[43mi\u001B[49m\u001B[43m]\u001B[49m\u001B[43m)\u001B[49m\u001B[38;5;241;43m.\u001B[39;49m\u001B[43mappend\u001B[49m(temp)\n\u001B[1;32m     16\u001B[0m \u001B[38;5;28mprint\u001B[39m(nums)\n",
      "\u001B[0;31mAttributeError\u001B[0m: 'NoneType' object has no attribute 'append'"
     ]
    }
   ],
   "source": [
    "nums = [0,1,0,3,12]\n",
    "i = -1\n",
    "for j in range(len(nums)):\n",
    "    if nums[j]!=0:\n",
    "        i+=1\n",
    "        # nums[i],nums[j] = nums[j],nums[i]\n",
    "        temp = nums[i]\n",
    "        nums[i] = nums[j]\n",
    "        nums[j] = temp\n",
    "print(nums)\n",
    "        \n",
    "\n",
    "    "
   ],
   "metadata": {
    "collapsed": false,
    "ExecuteTime": {
     "end_time": "2023-12-17T05:09:01.340110Z",
     "start_time": "2023-12-17T05:09:01.310038Z"
    }
   },
   "id": "22ac312ff66aa061"
  },
  {
   "cell_type": "markdown",
   "source": [
    "# 加一"
   ],
   "metadata": {
    "collapsed": false
   },
   "id": "209555f65eefb4a"
  },
  {
   "cell_type": "code",
   "execution_count": 30,
   "outputs": [
    {
     "name": "stdout",
     "output_type": "stream",
     "text": [
      "['1', '0', '0']\n",
      "[1, 0, 0]\n"
     ]
    }
   ],
   "source": [
    "number = [9,9]\n",
    "number = ''.join(str(i) for i in number)\n",
    "last_digit = int(number)+1\n",
    "result = [int(i) for i in list(str(last_digit))]\n",
    "print(result)\n",
    "\n",
    "\n",
    "\n",
    "\n",
    "\n",
    "\n",
    "\n"
   ],
   "metadata": {
    "collapsed": false,
    "ExecuteTime": {
     "end_time": "2023-12-19T22:26:42.641809Z",
     "start_time": "2023-12-19T22:26:42.635940Z"
    }
   },
   "id": "2bb91fef4251218c"
  },
  {
   "cell_type": "markdown",
   "source": [
    "# 数组元素积的符号\n"
   ],
   "metadata": {
    "collapsed": false
   },
   "id": "db7c5cf6278314c7"
  },
  {
   "cell_type": "code",
   "execution_count": 33,
   "outputs": [
    {
     "name": "stdout",
     "output_type": "stream",
     "text": [
      "-1\n"
     ]
    }
   ],
   "source": [
    "nums = [-1,1,-1,1,-1]\n",
    "product = 1\n",
    "for i in nums:\n",
    "    product*=i\n"
   ],
   "metadata": {
    "collapsed": false,
    "ExecuteTime": {
     "end_time": "2023-12-20T11:59:28.893488Z",
     "start_time": "2023-12-20T11:59:28.891360Z"
    }
   },
   "id": "dd032d1f8205b25a"
  },
  {
   "cell_type": "code",
   "execution_count": null,
   "outputs": [],
   "source": [
    "product = 1\n",
    "for i in nums:\n",
    "    product*=i\n",
    "if product>0:\n",
    "    return 1\n",
    "elif product<0:\n",
    "    return -1\n",
    "else:\n",
    "    return 0"
   ],
   "metadata": {
    "collapsed": false
   },
   "id": "8674f83ab290808c"
  },
  {
   "cell_type": "markdown",
   "source": [
    "# 判断能否形成等差数列"
   ],
   "metadata": {
    "collapsed": false
   },
   "id": "b51f589498341cd3"
  },
  {
   "cell_type": "code",
   "execution_count": 3,
   "outputs": [
    {
     "name": "stdout",
     "output_type": "stream",
     "text": [
      "{1, 2}\n",
      "False\n"
     ]
    }
   ],
   "source": [
    "arr = [1,2,4]\n",
    "arr = sorted(arr)\n",
    "p1 = arr[0]\n",
    "empty = set()\n",
    "for i in range(1,len(arr)):\n",
    "    gap = arr[i]-p1\n",
    "    empty.add(gap)\n",
    "    p1 = arr[i]\n",
    "print(empty)\n",
    "if len(empty)==1:\n",
    "    print('True')\n",
    "else:\n",
    "    print('False')\n",
    "    \n",
    "    \n"
   ],
   "metadata": {
    "collapsed": false,
    "ExecuteTime": {
     "end_time": "2023-12-26T05:46:41.897625Z",
     "start_time": "2023-12-26T05:46:41.890614Z"
    }
   },
   "id": "b37dabb8c8a8d2df"
  },
  {
   "cell_type": "code",
   "execution_count": 4,
   "outputs": [
    {
     "name": "stdout",
     "output_type": "stream",
     "text": [
      "False\n"
     ]
    }
   ],
   "source": [
    "arr = [1,2,4,8,10] # len(arr) == 5\n",
    "arr.sort()\n",
    "for i in range(1,len(arr)-1): # (1,4)相当于下标1到3\n",
    "    if (arr[i]-arr[i-1])!=(arr[i+1]-arr[i]):\n",
    "        print('False')\n",
    "    else:\n",
    "        print('True')"
   ],
   "metadata": {
    "collapsed": false,
    "ExecuteTime": {
     "end_time": "2023-12-26T05:50:36.420007Z",
     "start_time": "2023-12-26T05:50:36.392500Z"
    }
   },
   "id": "3af62dd09e436829"
  },
  {
   "cell_type": "markdown",
   "source": [
    "# 单调数列"
   ],
   "metadata": {
    "collapsed": false
   },
   "id": "33e4425e671151bc"
  },
  {
   "cell_type": "code",
   "execution_count": 22,
   "outputs": [
    {
     "data": {
      "text/plain": "True"
     },
     "execution_count": 22,
     "metadata": {},
     "output_type": "execute_result"
    }
   ],
   "source": [
    "\n",
    "arr = [3,5,1]\n",
    "def f1():\n",
    "    arr.sort()\n",
    "    gaps = arr[1]-arr[0]\n",
    "    for i in range(2,len(arr)):\n",
    "        if arr[i]-arr[i-1]!=gaps:\n",
    "            return False\n",
    "    return True\n",
    "\n",
    "f1()\n"
   ],
   "metadata": {
    "collapsed": false,
    "ExecuteTime": {
     "end_time": "2023-12-27T11:16:42.829156Z",
     "start_time": "2023-12-27T11:16:42.825536Z"
    }
   },
   "id": "75cc5fb351c1f220"
  },
  {
   "cell_type": "code",
   "execution_count": 6,
   "outputs": [
    {
     "name": "stdout",
     "output_type": "stream",
     "text": [
      "False\n",
      "True\n"
     ]
    }
   ],
   "source": [
    "# nums = [1,3,2,1]\n",
    "nums = [6,5,4,4]\n",
    "def f2():\n",
    "    for i in range(1,len(nums)-1):\n",
    "        if ((nums[i]>=nums[i-1]) and (nums[i+1]>=nums[i])) or ((nums[i]<=nums[i-1]) and (nums[i+1]<=nums[i])):\n",
    "            continue\n",
    "        else:\n",
    "            print('False')\n",
    "    print('True')\n",
    "f2()"
   ],
   "metadata": {
    "collapsed": false,
    "ExecuteTime": {
     "end_time": "2023-12-30T05:36:05.637084Z",
     "start_time": "2023-12-30T05:36:05.630471Z"
    }
   },
   "id": "32020dcdcf428c7b"
  },
  {
   "cell_type": "code",
   "execution_count": 16,
   "outputs": [
    {
     "name": "stdout",
     "output_type": "stream",
     "text": [
      "[4, 4, 5, 6]\n",
      "[4, 4, 5, 6]\n"
     ]
    }
   ],
   "source": [
    "nums = [6,5,4,4]\n",
    "# nums = [1,2,3,4,5,6]\n",
    "# nums = [1,3,2]\n",
    "temp = sorted(nums)\n",
    "if temp==nums:\n",
    "    print('True')\n",
    "else:\n",
    "    nums.reverse()\n",
    "    print(nums)\n",
    "    print(temp)\n",
    "    \n",
    "    "
   ],
   "metadata": {
    "collapsed": false,
    "ExecuteTime": {
     "end_time": "2023-12-30T05:49:01.852689Z",
     "start_time": "2023-12-30T05:49:01.845020Z"
    }
   },
   "id": "7990c1162dfba653"
  },
  {
   "cell_type": "markdown",
   "source": [
    "# 罗马数字转整数"
   ],
   "metadata": {
    "collapsed": false
   },
   "id": "c1822a829fa2136b"
  },
  {
   "cell_type": "code",
   "execution_count": 1,
   "outputs": [
    {
     "name": "stdout",
     "output_type": "stream",
     "text": [
      "4\n"
     ]
    }
   ],
   "source": [
    "# method1\n",
    "s='IV'\n",
    "dic_number = {'I':1, 'V':5, 'X':10, 'L':50, 'C':100, 'D':500, 'M':1000}\n",
    "result = 0\n",
    "for i in range(len(s)):\n",
    "    if i<len(s)-1 and dic_number[s[i]]<dic_number[s[i+1]]:\n",
    "        result-=dic_number[s[i]]\n",
    "    else:\n",
    "        result+=dic_number[s[i]]\n",
    "print(result)"
   ],
   "metadata": {
    "collapsed": false,
    "ExecuteTime": {
     "end_time": "2024-01-01T23:36:02.113424Z",
     "start_time": "2024-01-01T23:36:02.106449Z"
    }
   },
   "id": "c5fd4f67d9109229"
  },
  {
   "cell_type": "code",
   "execution_count": 2,
   "outputs": [
    {
     "name": "stdout",
     "output_type": "stream",
     "text": [
      "8\n"
     ]
    }
   ],
   "source": [
    "# method2\n",
    "s='VIII'\n",
    "ans = 0\n",
    "dic_number = {'I':1, 'V':5, 'X':10, 'L':50, 'C':100, 'D':500, 'M':1000}\n",
    "if 'IX' in s:\n",
    "    s=s.replace('IX','')\n",
    "    ans+=9\n",
    "if 'IV' in s:\n",
    "    s=s.replace('IV','')\n",
    "if 'XL' in s:\n",
    "    s=s.replace('XL','')\n",
    "for i in s:\n",
    "    ans+=dic_number[i]\n",
    "print(ans)"
   ],
   "metadata": {
    "collapsed": false,
    "ExecuteTime": {
     "end_time": "2024-01-02T00:02:58.028001Z",
     "start_time": "2024-01-02T00:02:58.011956Z"
    }
   },
   "id": "8dc309233f2ecf24"
  },
  {
   "cell_type": "markdown",
   "source": [
    "# 最后一个单词长度"
   ],
   "metadata": {
    "collapsed": false
   },
   "id": "827a87d855c9b207"
  },
  {
   "cell_type": "code",
   "execution_count": 4,
   "outputs": [
    {
     "name": "stdout",
     "output_type": "stream",
     "text": [
      "6\n"
     ]
    }
   ],
   "source": [
    "s = \"   luffy is still joyboy\"\n",
    "s = s.strip().split()\n",
    "print(len(s[-1]))\n"
   ],
   "metadata": {
    "collapsed": false,
    "ExecuteTime": {
     "end_time": "2024-01-02T03:32:20.442040Z",
     "start_time": "2024-01-02T03:32:20.433734Z"
    }
   },
   "id": "71361c351d7d1214"
  },
  {
   "cell_type": "markdown",
   "source": [
    "# 转换成小写字母"
   ],
   "metadata": {
    "collapsed": false
   },
   "id": "a909c8e4a94c1529"
  },
  {
   "cell_type": "code",
   "execution_count": 18,
   "outputs": [
    {
     "name": "stdout",
     "output_type": "stream",
     "text": [
      "['5', '-2', '4', 'C', 'D', '+', '+', '1']\n"
     ]
    }
   ],
   "source": [
    "\n",
    "ops1 = [\"5\",\"-2\",\"4\",\"C\",\"D\",\"9\",\"+\",\"+\"]\n",
    "ops1.pop(-3)\n",
    "ops1.append('1')\n",
    "print(ops1)\n"
   ],
   "metadata": {
    "collapsed": false,
    "ExecuteTime": {
     "end_time": "2024-01-02T04:07:13.920482Z",
     "start_time": "2024-01-02T04:07:13.915788Z"
    }
   },
   "id": "fb7863cd0def620c"
  },
  {
   "cell_type": "markdown",
   "source": [
    "# 棒球比赛计分"
   ],
   "metadata": {
    "collapsed": false
   },
   "id": "e13b69f25c35b558"
  },
  {
   "cell_type": "code",
   "execution_count": 21,
   "outputs": [
    {
     "name": "stdout",
     "output_type": "stream",
     "text": [
      "[5, 10, 9, 19, 28]\n"
     ]
    }
   ],
   "source": [
    "ops = [\"5\",\"-2\",\"4\",\"C\",\"D\",\"9\",\"+\",\"+\"]\n",
    "# C :delete the latest point \n",
    "# D: double the latest two scores\n",
    "# +: add latest two scores\n",
    "result = []\n",
    "for i in range(len(ops)):\n",
    "    if ops[i]=='C':\n",
    "        result.pop(-1)\n",
    "    elif ops[i]=='D':\n",
    "        result[-1]=2*result[-2]\n",
    "    elif ops[i]=='+':\n",
    "        result.append(result[-1]+result[-2])\n",
    "    else:   \n",
    "        result.append(int(ops[i]))\n",
    "print(result)"
   ],
   "metadata": {
    "collapsed": false,
    "ExecuteTime": {
     "end_time": "2024-01-02T04:12:42.952089Z",
     "start_time": "2024-01-02T04:12:42.948812Z"
    }
   },
   "id": "b6508806d2a2a034"
  },
  {
   "cell_type": "markdown",
   "source": [
    "# 机器人能否返回原点"
   ],
   "metadata": {
    "collapsed": false
   },
   "id": "ffea2f5ff3e4f381"
  },
  {
   "cell_type": "code",
   "execution_count": 8,
   "outputs": [
    {
     "name": "stdout",
     "output_type": "stream",
     "text": [
      "(-2, 0)\n",
      "Counter({'L': 2})\n"
     ]
    }
   ],
   "source": [
    "point = (0, 0)\n",
    "moves = \"LL\"\n",
    "steps = {'U': (0, 1), 'D': (0, -1), 'L': (-1, 0), 'R': (1, 0)}\n",
    "\n",
    "for i in move:\n",
    "    dx, dy = steps[i]\n",
    "    point = (point[0] + dx, point[1] + dy)\n",
    "\n",
    "print(point)\n",
    "from collections import Counter\n",
    "c = Counter(moves)\n",
    "print(c)\n",
    "\n"
   ],
   "metadata": {
    "collapsed": false,
    "ExecuteTime": {
     "end_time": "2024-01-04T03:42:14.829404Z",
     "start_time": "2024-01-04T03:42:14.821845Z"
    }
   },
   "id": "93e9a3516e5fdb5a"
  },
  {
   "cell_type": "markdown",
   "source": [
    "# 找出并字棋的获胜\n"
   ],
   "metadata": {
    "collapsed": false
   },
   "id": "ceec8f6f3d431db8"
  },
  {
   "cell_type": "code",
   "execution_count": 31,
   "outputs": [
    {
     "name": "stdout",
     "output_type": "stream",
     "text": [
      "List A:[[0, 0], [0, 1], [1, 0]] and List B:[[1, 1], [0, 2], [2, 0]]\n",
      "B\n",
      "B\n"
     ]
    }
   ],
   "source": [
    "# moves = [[0,0],[2,0],[1,1],[2,1],[2,2]]\n",
    "moves = [[0,0],[1,1],[0,1],[0,2],[1,0],[2,0]]\n",
    "# moves = [[0,0],[1,1],[2,0],[1,0],[1,2],[2,1],[0,1],[0,2],[2,2]]\n",
    "# moves = [[0,0],[1,1]]\n",
    "# moves = [[1,0],[2,2],[2,0],[0,1],[1,1]]\n",
    "if len(moves)==9:\n",
    "    print('Pending')\n",
    "A = []\n",
    "B = []\n",
    "for i in range(len(moves)):\n",
    "    if i %2==0:\n",
    "        A.append(moves[i])\n",
    "    else:\n",
    "        B.append(moves[i])\n",
    "print(f'List A:{A} and List B:{B}')\n",
    "for sublist1 in A:\n",
    "    for sublist2 in A:\n",
    "        if sublist2!=sublist1:\n",
    "            dx = (sublist2[0]+sublist1[0])/2\n",
    "            dy = (sublist2[1]+sublist1[1])/2\n",
    "            if [dx,dy] in A:\n",
    "                print('A')\n",
    "for subB1 in B:\n",
    "    for subB2 in B:\n",
    "        if subB2!=subB1:\n",
    "            wx=(subB2[0]+subB1[0])/2\n",
    "            wy = (subB2[1]+subB1[1])/2\n",
    "            if [wx,wy] in B:\n",
    "                print('B')\n",
    "if len(moves)==9:\n",
    "    print('Draw')\n",
    "print('Pending')    \n",
    "                \n",
    "                \n",
    "\n",
    "\n",
    "\n",
    "\n",
    "\n",
    "    "
   ],
   "metadata": {
    "collapsed": false,
    "ExecuteTime": {
     "end_time": "2024-01-05T04:37:16.930523Z",
     "start_time": "2024-01-05T04:37:16.923366Z"
    }
   },
   "id": "a903ca95a298f015"
  },
  {
   "cell_type": "markdown",
   "source": [
    "# 困于环中的机器人"
   ],
   "metadata": {
    "collapsed": false
   },
   "id": "7e0fc742af7fc017"
  },
  {
   "cell_type": "code",
   "execution_count": 35,
   "outputs": [
    {
     "data": {
      "text/plain": "True"
     },
     "execution_count": 35,
     "metadata": {},
     "output_type": "execute_result"
    }
   ],
   "source": [
    "instructions = \"GL\"\n",
    "def f2():\n",
    "    pos = [0,0]\n",
    "    dir = 0\n",
    "    for direction in instructions:\n",
    "        if direction=='G':\n",
    "            if dir==0:\n",
    "                pos[1]+=1\n",
    "            elif dir==1:\n",
    "                pos[0]-=1\n",
    "            elif dir==2:\n",
    "                pos[1]-=1\n",
    "            else:\n",
    "                pos[0]+=1\n",
    "        elif direction=='L':\n",
    "            dir = (dir+1)%4 # 执行d+1的操作\n",
    "        else:\n",
    "            dir = (dir+3)%4 # 如果都不是则执行\n",
    "    return pos==[0,0] or dir!=0\n",
    "f2()\n",
    "            "
   ],
   "metadata": {
    "collapsed": false,
    "ExecuteTime": {
     "end_time": "2024-01-09T04:09:51.048511Z",
     "start_time": "2024-01-09T04:09:51.029573Z"
    }
   },
   "id": "383f4e922a40a6ec"
  },
  {
   "cell_type": "code",
   "execution_count": 37,
   "outputs": [
    {
     "ename": "TypeError",
     "evalue": "'int' object is not iterable",
     "output_type": "error",
     "traceback": [
      "\u001B[0;31m---------------------------------------------------------------------------\u001B[0m",
      "\u001B[0;31mTypeError\u001B[0m                                 Traceback (most recent call last)",
      "Cell \u001B[0;32mIn[37], line 3\u001B[0m\n\u001B[1;32m      1\u001B[0m accounts \u001B[38;5;241m=\u001B[39m [[\u001B[38;5;241m2\u001B[39m,\u001B[38;5;241m8\u001B[39m,\u001B[38;5;241m7\u001B[39m],[\u001B[38;5;241m7\u001B[39m,\u001B[38;5;241m1\u001B[39m,\u001B[38;5;241m3\u001B[39m],[\u001B[38;5;241m1\u001B[39m,\u001B[38;5;241m9\u001B[39m,\u001B[38;5;241m5\u001B[39m]]\n\u001B[1;32m      2\u001B[0m \u001B[38;5;28;01mfor\u001B[39;00m account \u001B[38;5;129;01min\u001B[39;00m accounts:\n\u001B[0;32m----> 3\u001B[0m     \u001B[38;5;28mprint\u001B[39m(\u001B[38;5;28;43mmax\u001B[39;49m\u001B[43m(\u001B[49m\u001B[38;5;28;43msum\u001B[39;49m\u001B[43m(\u001B[49m\u001B[43maccount\u001B[49m\u001B[43m)\u001B[49m\u001B[43m)\u001B[49m)\n",
      "\u001B[0;31mTypeError\u001B[0m: 'int' object is not iterable"
     ]
    }
   ],
   "source": [
    "accounts = [[2,8,7],[7,1,3],[1,9,5]]\n",
    "for account in accounts:\n",
    "    "
   ],
   "metadata": {
    "collapsed": false,
    "ExecuteTime": {
     "end_time": "2024-01-10T05:20:04.963790Z",
     "start_time": "2024-01-10T05:20:04.961067Z"
    }
   },
   "id": "9bae45083e9bb238"
  },
  {
   "cell_type": "code",
   "execution_count": 45,
   "outputs": [
    {
     "name": "stdout",
     "output_type": "stream",
     "text": [
      "<reversed object at 0x108227f40>\n",
      "<reversed object at 0x108227d00>\n",
      "<reversed object at 0x108227f40>\n"
     ]
    }
   ],
   "source": [
    "list1 = [1, 2, 3]\n",
    "list2 = ['a', 'b', 'c']\n",
    "for number, letter in zip(list1, list2):\n",
    "    s =reversed(number*'*')\n",
    "    print(s)\n",
    "e"
   ],
   "metadata": {
    "collapsed": false,
    "ExecuteTime": {
     "end_time": "2024-01-10T06:33:10.431262Z",
     "start_time": "2024-01-10T06:33:10.420541Z"
    }
   },
   "id": "3a123a4b70429590"
  },
  {
   "cell_type": "code",
   "execution_count": 57,
   "outputs": [
    {
     "ename": "IndexError",
     "evalue": "list index out of range",
     "output_type": "error",
     "traceback": [
      "\u001B[0;31m---------------------------------------------------------------------------\u001B[0m",
      "\u001B[0;31mIndexError\u001B[0m                                Traceback (most recent call last)",
      "Cell \u001B[0;32mIn[57], line 30\u001B[0m\n\u001B[1;32m     28\u001B[0m         y\u001B[38;5;241m+\u001B[39m\u001B[38;5;241m=\u001B[39mdirection[d_index][\u001B[38;5;241m1\u001B[39m]\n\u001B[1;32m     29\u001B[0m     \u001B[38;5;28;01mreturn\u001B[39;00m res\n\u001B[0;32m---> 30\u001B[0m \u001B[43mspain_matrix\u001B[49m\u001B[43m(\u001B[49m\u001B[43m)\u001B[49m\n",
      "Cell \u001B[0;32mIn[57], line 12\u001B[0m, in \u001B[0;36mspain_matrix\u001B[0;34m()\u001B[0m\n\u001B[1;32m     10\u001B[0m \u001B[38;5;28;01mif\u001B[39;00m \u001B[38;5;129;01mnot\u001B[39;00m matrix \u001B[38;5;129;01mor\u001B[39;00m \u001B[38;5;129;01mnot\u001B[39;00m matrix[\u001B[38;5;241m0\u001B[39m]: \u001B[38;5;28;01mreturn\u001B[39;00m [] \n\u001B[1;32m     11\u001B[0m \u001B[38;5;28;01mwhile\u001B[39;00m \u001B[38;5;28mlen\u001B[39m(res)\u001B[38;5;241m!=\u001B[39mM\u001B[38;5;241m*\u001B[39mN:\n\u001B[0;32m---> 12\u001B[0m     res\u001B[38;5;241m.\u001B[39mappend(\u001B[43mmatrix\u001B[49m\u001B[43m[\u001B[49m\u001B[43mx\u001B[49m\u001B[43m]\u001B[49m[y])\n\u001B[1;32m     13\u001B[0m     \u001B[38;5;28;01mif\u001B[39;00m d_index\u001B[38;5;241m==\u001B[39m\u001B[38;5;241m0\u001B[39m \u001B[38;5;129;01mand\u001B[39;00m y\u001B[38;5;241m==\u001B[39mright:\n\u001B[1;32m     14\u001B[0m         d_index\u001B[38;5;241m+\u001B[39m\u001B[38;5;241m=\u001B[39m\u001B[38;5;241m1\u001B[39m\n",
      "\u001B[0;31mIndexError\u001B[0m: list index out of range"
     ]
    }
   ],
   "source": [
    "\n",
    "def spain_matrix():\n",
    "    matrix = [[1,2,3],[4,5,6],[7,8,9]]\n",
    "    x,y = 0,0\n",
    "    direction = [(1,0),(0,-1),(-1,0),(0,1)]\n",
    "    d_index = 0\n",
    "    M,N=len(matrix),len(matrix[0])\n",
    "    right,down=N-1,M-1\n",
    "    left,up = 0,0\n",
    "    res = []\n",
    "    if not matrix or not matrix[0]: return [] \n",
    "    while len(res)!=M*N:\n",
    "        res.append(matrix[x][y])\n",
    "        if d_index==0 and y==right:\n",
    "            d_index+=1\n",
    "            up+=1\n",
    "        elif d_index==1 and x==down:\n",
    "            d_index+=1\n",
    "            right-=1\n",
    "        elif d_index==2 and y==left:\n",
    "            d_index+=1\n",
    "            down-=1\n",
    "        elif d_index==3 and x==up:\n",
    "            d_index+=1\n",
    "            left+=1\n",
    "        \n",
    "        d_index%=4\n",
    "        x+=direction[d_index][0]\n",
    "        y+=direction[d_index][1]\n",
    "    return res\n",
    "spain_matrix()\n",
    "    \n",
    "    \n",
    "    "
   ],
   "metadata": {
    "collapsed": false,
    "ExecuteTime": {
     "end_time": "2024-01-11T11:40:46.698325Z",
     "start_time": "2024-01-11T11:40:46.695213Z"
    }
   },
   "id": "36e1f80a80f0814b"
  },
  {
   "cell_type": "markdown",
   "source": [
    "# 矩阵置零"
   ],
   "metadata": {
    "collapsed": false
   },
   "id": "8d13c6975dde28a2"
  },
  {
   "cell_type": "code",
   "execution_count": 4,
   "outputs": [
    {
     "name": "stdout",
     "output_type": "stream",
     "text": [
      "[[1, 0, 1], [0, 0, 0], [1, 0, 1]]\n"
     ]
    }
   ],
   "source": [
    "matrix = [[1,1,1],[1,0,1],[1,1,1]]\n",
    "zero_list = []\n",
    "for index,row in enumerate(matrix):\n",
    "    for ind,value in enumerate(row):\n",
    "        if value==0:\n",
    "            zero_list.append(ind) # 把为0的元素的下标加入到列表\n",
    "            matrix[ind]=[0]*len(row)\n",
    "        else:\n",
    "            continue\n",
    "for num in set(zero_list):\n",
    "    for row in range(len(matrix)):\n",
    "        matrix[row][num]=0\n",
    "print(matrix)"
   ],
   "metadata": {
    "collapsed": false,
    "ExecuteTime": {
     "end_time": "2024-01-11T22:29:46.042544Z",
     "start_time": "2024-01-11T22:29:46.032302Z"
    }
   },
   "id": "436a1eb4a2d36216"
  },
  {
   "cell_type": "code",
   "execution_count": 6,
   "outputs": [
    {
     "name": "stdout",
     "output_type": "stream",
     "text": [
      "[[1, 0, 1], [0, 0, 0], [1, 0, 1]]\n"
     ]
    }
   ],
   "source": [
    "matrix = [[1,1,1],[1,0,1],[1,1,1]]\n",
    "empty_list = []\n",
    "for row in matrix:\n",
    "    for x in range(len(row)):\n",
    "        if row[x]==0:\n",
    "            empty_list.append(x) # 会有多个0的元素，将其index加入列表中\n",
    "            matrix[x]=[0]*len(row) # 将整行都修改为0\n",
    "        else:\n",
    "            continue\n",
    "for nums in set(empty_list): \n",
    "    for i in range(len(matrix)):\n",
    "        matrix[i][nums]=0  #\n",
    "print(matrix)\n",
    "        \n"
   ],
   "metadata": {
    "collapsed": false,
    "ExecuteTime": {
     "end_time": "2024-01-11T22:35:05.551776Z",
     "start_time": "2024-01-11T22:35:05.543410Z"
    }
   },
   "id": "68151b5b37f88846"
  },
  {
   "cell_type": "code",
   "execution_count": 7,
   "outputs": [
    {
     "name": "stdout",
     "output_type": "stream",
     "text": [
      "[[1, 0, 1], [0, 0, 0], [1, 0, 1]]\n"
     ]
    }
   ],
   "source": [
    "# 思路2\n",
    "matrix = [[1,1,1],[1,0,1],[1,1,1]]\n",
    "zero_x=set()\n",
    "zero_y=set()\n",
    "for i in range(len(matrix)):\n",
    "    for j in range(len(matrix[0])):\n",
    "        if matrix[i][j]==0:\n",
    "            zero_y.add(j)\n",
    "            zero_x.add(i)\n",
    "for i in range(len(matrix)):\n",
    "    for j in range(len(matrix[0])):\n",
    "        if i in zero_x or j in zero_y:\n",
    "            matrix[i][j]=0\n",
    "print(matrix)\n",
    "            "
   ],
   "metadata": {
    "collapsed": false,
    "ExecuteTime": {
     "end_time": "2024-01-11T23:38:57.002265Z",
     "start_time": "2024-01-11T23:38:56.972826Z"
    }
   },
   "id": "3011690ad5cd8b9f"
  },
  {
   "cell_type": "markdown",
   "source": [
    "# 区间范围内统计奇数数目"
   ],
   "metadata": {
    "collapsed": false
   },
   "id": "ae9a70fa691115e0"
  },
  {
   "cell_type": "code",
   "execution_count": 11,
   "outputs": [
    {
     "name": "stdout",
     "output_type": "stream",
     "text": [
      "2\n"
     ]
    }
   ],
   "source": [
    "low = 8\n",
    "high = 11\n",
    "number = 0\n",
    "for i in range(low,high+1):\n",
    "    if i%2!=0:\n",
    "        number+=1\n",
    "print(number)\n",
    "        "
   ],
   "metadata": {
    "collapsed": false,
    "ExecuteTime": {
     "end_time": "2024-01-12T00:17:12.714663Z",
     "start_time": "2024-01-12T00:17:12.703652Z"
    }
   },
   "id": "1b5e89bc4c29a0b2"
  },
  {
   "cell_type": "code",
   "execution_count": 13,
   "outputs": [
    {
     "name": "stdout",
     "output_type": "stream",
     "text": [
      "1\n"
     ]
    }
   ],
   "source": [
    "low = 8\n",
    "high = 10\n",
    "if high%2==1:\n",
    "    high+=1\n",
    "result = (high-low+1)//2\n",
    "print(result)"
   ],
   "metadata": {
    "collapsed": false,
    "ExecuteTime": {
     "end_time": "2024-01-12T00:17:42.041413Z",
     "start_time": "2024-01-12T00:17:42.032560Z"
    }
   },
   "id": "b00a6292a9ac1c34"
  },
  {
   "cell_type": "markdown",
   "source": [
    "# 每日一题"
   ],
   "metadata": {
    "collapsed": false
   },
   "id": "a43b7c4539a88826"
  },
  {
   "cell_type": "code",
   "execution_count": 16,
   "outputs": [
    {
     "name": "stdout",
     "output_type": "stream",
     "text": [
      "defaultdict(<class 'int'>, {'a': 1, 'ab': 1})\n"
     ]
    },
    {
     "data": {
      "text/plain": "2"
     },
     "execution_count": 16,
     "metadata": {},
     "output_type": "execute_result"
    }
   ],
   "source": [
    "# words1 = [\"a\",\"ab\"]\n",
    "# words2 = [\"a\",\"a\",\"a\",\"ab\"]\n",
    "def f4():\n",
    "    from collections import defaultdict\n",
    "    words_dict =defaultdict(int)\n",
    "    \n",
    "    for i in words1:\n",
    "        if i in words2 and :\n",
    "            words_dict[i]+=1\n",
    "    count =0\n",
    "    print(words_dict)\n",
    "    for num in words_dict.values():\n",
    "        if num==1:\n",
    "            count+=1\n",
    "    return count\n",
    "f4()\n",
    "        \n",
    "    \n",
    "        \n"
   ],
   "metadata": {
    "collapsed": false,
    "ExecuteTime": {
     "end_time": "2024-01-12T12:35:21.092066Z",
     "start_time": "2024-01-12T12:35:21.080457Z"
    }
   },
   "id": "5fbaf3f8e84ac5ff"
  },
  {
   "cell_type": "code",
   "execution_count": 26,
   "outputs": [
    {
     "name": "stdout",
     "output_type": "stream",
     "text": [
      "Counter({'a': 1, 'ab': 1})\n",
      "Counter({'a': 3, 'ab': 1})\n",
      "1\n"
     ]
    }
   ],
   "source": [
    "from collections import Counter\n",
    "\n",
    "# words1 = [\"b\",\"bb\",\"bbb\"]\n",
    "# # words2 = [\"a\",\"aa\",\"aaa\"]\n",
    "words1 = [\"a\",\"ab\"]\n",
    "words2 = [\"a\",\"a\",\"a\",\"ab\"]\n",
    "\n",
    "def f4():\n",
    "    counter1 = Counter(words1)\n",
    "    counter2 = Counter(words2)\n",
    "    print(counter1)\n",
    "    print(counter2)\n",
    "    \n",
    "    # 计算在words1中但不在words2中出现的单词数量\n",
    "    count = 0\n",
    "    for key,value in counter1.items():\n",
    "        if value==1 and counter2.get(key,0)==1:\n",
    "            count+=1\n",
    "    \n",
    "    return count\n",
    "\n",
    "result = f4()\n",
    "print(result)\n"
   ],
   "metadata": {
    "collapsed": false,
    "ExecuteTime": {
     "end_time": "2024-01-12T22:59:42.655283Z",
     "start_time": "2024-01-12T22:59:42.641896Z"
    }
   },
   "id": "f1d145e9d24bf631"
  },
  {
   "cell_type": "code",
   "execution_count": 3,
   "outputs": [
    {
     "data": {
      "text/plain": "False"
     },
     "execution_count": 3,
     "metadata": {},
     "output_type": "execute_result"
    }
   ],
   "source": [
    "def refund(bills):\n",
    "    five, ten = 0, 0\n",
    "    for bill in bills:\n",
    "        if bill == 5:\n",
    "            five += 1\n",
    "        elif bill == 10:\n",
    "            if five == 0:\n",
    "                return False\n",
    "            five -= 1\n",
    "            ten += 1\n",
    "        else:  # bill == 20\n",
    "            if ten > 0 and five > 0:\n",
    "                ten -= 1\n",
    "                five -= 1\n",
    "            elif five >= 3:\n",
    "                five -= 3\n",
    "            else:\n",
    "                return False\n",
    "    return True\n",
    "\n",
    "# 测试一下\n",
    "bills = [5, 5, 10, 10, 20]\n",
    "refund(bills)\n"
   ],
   "metadata": {
    "collapsed": false,
    "ExecuteTime": {
     "end_time": "2024-01-15T01:46:50.750291Z",
     "start_time": "2024-01-15T01:46:50.735413Z"
    }
   },
   "id": "190583d7f54b3a11"
  },
  {
   "cell_type": "code",
   "execution_count": 5,
   "outputs": [
    {
     "data": {
      "text/plain": "True"
     },
     "execution_count": 5,
     "metadata": {},
     "output_type": "execute_result"
    }
   ],
   "source": [
    "bills = [5, 5, 10, 10]\n",
    "def refund_money():\n",
    "    five,ten = 0,0\n",
    "    for money in bills:\n",
    "        if money==5:\n",
    "            five+=1\n",
    "        if money==10:\n",
    "            five-=1\n",
    "            ten+=1\n",
    "        if money==20:\n",
    "            if ten>0 and five>0:\n",
    "                ten-=1\n",
    "                five-=1\n",
    "            elif five>=3:\n",
    "                five-=3\n",
    "            else:\n",
    "                return False\n",
    "    return True\n",
    "refund_money()\n",
    "           \n",
    "           \n",
    "           \n",
    "            \n",
    "        "
   ],
   "metadata": {
    "collapsed": false,
    "ExecuteTime": {
     "end_time": "2024-01-15T01:54:13.416480Z",
     "start_time": "2024-01-15T01:54:13.403314Z"
    }
   },
   "id": "c128cd49e337eaeb"
  },
  {
   "cell_type": "markdown",
   "source": [
    "# 面积不为0的三角形"
   ],
   "metadata": {
    "collapsed": false
   },
   "id": "f4e84ba4cd25ddb9"
  },
  {
   "cell_type": "code",
   "execution_count": 39,
   "outputs": [
    {
     "name": "stdout",
     "output_type": "stream",
     "text": [
      "0\n",
      "0\n"
     ]
    }
   ],
   "source": [
    "# nums =[3,6,2,3]\n",
    "# nums = [3,2,3,4]\n",
    "nums = [1,2,1,10]\n",
    "nums=sorted(nums,reverse=True)\n",
    "for i in range(len(nums)-2):\n",
    "    if nums[i]<nums[i+1]+nums[i+2]:\n",
    "        print(nums[i]+nums[i+1]+nums[i+2])\n",
    "    else:\n",
    "        print(0)"
   ],
   "metadata": {
    "collapsed": false,
    "ExecuteTime": {
     "end_time": "2024-01-16T05:29:52.320475Z",
     "start_time": "2024-01-16T05:29:52.302123Z"
    }
   },
   "id": "1c8e3ee3e2671f9"
  },
  {
   "cell_type": "code",
   "execution_count": 28,
   "outputs": [
    {
     "name": "stdout",
     "output_type": "stream",
     "text": [
      "defaultdict(<class 'list'>, {})\n",
      "set()\n"
     ]
    }
   ],
   "source": [
    "nums = [2, 1, 2, 3, 4, 5]\n",
    "from collections import defaultdict\n",
    "\n",
    "triangles = defaultdict(list)\n",
    "seen_sums = set()\n",
    "\n",
    "for i in range(1, len(nums) - 1):\n",
    "    if nums[i] + nums[i - 1] > nums[i + 1] and abs(nums[i] - nums[i - 1]) < nums[i + 1]:\n",
    "        current_triangle = nums[i - 1:i + 2]\n",
    "        res = sum(current_triangle)\n",
    "        \n",
    "        if res not in seen_sums:\n",
    "            triangles[res].extend(current_triangle)\n",
    "            seen_sums.add(res)\n",
    "\n",
    "print(triangles)\n",
    "print(seen_sums)\n"
   ],
   "metadata": {
    "collapsed": false,
    "ExecuteTime": {
     "end_time": "2024-01-16T05:21:44.651716Z",
     "start_time": "2024-01-16T05:21:44.641881Z"
    }
   },
   "id": "361012e1959782dd"
  },
  {
   "cell_type": "code",
   "execution_count": 43,
   "outputs": [
    {
     "name": "stdout",
     "output_type": "stream",
     "text": [
      "True\n",
      "True\n",
      "False\n",
      "True\n",
      "True\n"
     ]
    }
   ],
   "source": [
    "# coordinates = [[1,2],[2,3],[3,4],[4,5],[5,6],[6,7]]\n",
    "coordinates = [[0,0],[0,1],[0,-1]]\n",
    "# [[1,1],[2,2],[3,4],[4,5],[5,6],[7,7]]\n",
    "\n",
    "for i,num in enumerate(coordinates[1:]):\n",
    "    if coordinates[i][1]-coordinates[i-1][1]==coordinates[i][0]-coordinates[i-1][0]:\n",
    "        print('True')\n",
    "    else:\n",
    "        print('False')"
   ],
   "metadata": {
    "collapsed": false,
    "ExecuteTime": {
     "end_time": "2024-01-16T05:47:12.151789Z",
     "start_time": "2024-01-16T05:47:12.137155Z"
    }
   },
   "id": "3d79c4de00016f68"
  },
  {
   "cell_type": "markdown",
   "source": [
    "# 二进制求和"
   ],
   "metadata": {
    "collapsed": false
   },
   "id": "55f14e7c9875c00a"
  },
  {
   "cell_type": "code",
   "execution_count": 30,
   "outputs": [
    {
     "name": "stdout",
     "output_type": "stream",
     "text": [
      "56088\n"
     ]
    }
   ],
   "source": [
    "num1 = '123'\n",
    "num2= '456'\n",
    "a1=len(num1)-1\n",
    "b2 = len(num2)-1\n",
    "n1,n2 = 0,0\n",
    "num_dict = {'1':1,'2':2,'3':3,'4':4,'5':5,'6':6,'7':7,'8':8,'9':9,'0':0}\n",
    "for i in list(num1):\n",
    "    for key in num_dict.keys():\n",
    "        if i==key:\n",
    "            n1+=num_dict[key]*(10**a1)\n",
    "            a1-=1\n",
    "for i in list(num2):\n",
    "    for key in num_dict.keys():\n",
    "        if key==i:\n",
    "            n2+=num_dict[key]*(10**b2)\n",
    "            b2-=1\n",
    "\n",
    "\n",
    "\n",
    "\n",
    "print(n1*n2)\n",
    "\n",
    "\n",
    "        \n",
    "        \n",
    "    \n",
    "\n"
   ],
   "metadata": {
    "collapsed": false,
    "ExecuteTime": {
     "end_time": "2024-01-17T00:42:17.571589Z",
     "start_time": "2024-01-17T00:42:17.563062Z"
    }
   },
   "id": "cbe800e72435f29d"
  },
  {
   "cell_type": "markdown",
   "source": [
    "# 实现pow计算"
   ],
   "metadata": {
    "collapsed": false
   },
   "id": "2f98ae11c06084a6"
  },
  {
   "cell_type": "code",
   "execution_count": 55,
   "outputs": [
    {
     "name": "stdout",
     "output_type": "stream",
     "text": [
      "2\n",
      "85.76612100000003\n"
     ]
    }
   ],
   "source": [
    "x = 2.0000\n",
    "n = 4\n",
    "# 1024.00000\n",
    "temp = 1\n",
    "if n==0:\n",
    "    print(1)\n",
    "if n>0:\n",
    "    while temp < n+1:\n",
    "        win *= x\n",
    "        temp += 1\n",
    "else:\n",
    "    sign = -1\n",
    "    while sign > n-1:\n",
    "        win/=x\n",
    "        sign-=1\n",
    "\n",
    "\n",
    "# 使用格式化字符串控制输出小数位数\n",
    "\n",
    "print(win)\n",
    "\n"
   ],
   "metadata": {
    "collapsed": false,
    "ExecuteTime": {
     "end_time": "2024-01-17T02:12:50.970853Z",
     "start_time": "2024-01-17T02:12:50.958919Z"
    }
   },
   "id": "17d4633acf60fd04"
  },
  {
   "cell_type": "code",
   "execution_count": 52,
   "outputs": [
    {
     "name": "stdout",
     "output_type": "stream",
     "text": [
      "3.15\n"
     ]
    }
   ],
   "source": [
    "x = 3.14659\n",
    "rounded_x = round(x, 2)\n",
    "print(rounded_x)  # 输出：3.14\n"
   ],
   "metadata": {
    "collapsed": false,
    "ExecuteTime": {
     "end_time": "2024-01-17T01:53:29.840894Z",
     "start_time": "2024-01-17T01:53:29.838952Z"
    }
   },
   "id": "28975dcd3ab1359d"
  },
  {
   "cell_type": "code",
   "execution_count": 58,
   "outputs": [
    {
     "data": {
      "text/plain": "16"
     },
     "execution_count": 58,
     "metadata": {},
     "output_type": "execute_result"
    }
   ],
   "source": [
    "class Solution(object):\n",
    "    def myPow(self, x, n):\n",
    "        \"\"\"\n",
    "        :type x: float\n",
    "        :type n: int\n",
    "        :rtype: float\n",
    "        \"\"\"\n",
    "        if n == 0:\n",
    "            return 1\n",
    "        if n < 0:\n",
    "            return 1/self.myPow(x,-n)\n",
    "        res = 1\n",
    "        while n:\n",
    "            if n % 2:\n",
    "                res *= x\n",
    "            n >>= 1\n",
    "            x *= x\n",
    "        return res\n",
    "pow(2,5)\n"
   ],
   "metadata": {
    "collapsed": false,
    "ExecuteTime": {
     "end_time": "2024-01-17T02:29:28.266339Z",
     "start_time": "2024-01-17T02:29:28.261364Z"
    }
   },
   "id": "3085b6ac27eb6031"
  },
  {
   "cell_type": "code",
   "execution_count": null,
   "outputs": [],
   "source": [],
   "metadata": {
    "collapsed": false
   },
   "id": "a8b9c231db4aa970"
  }
 ],
 "metadata": {
  "kernelspec": {
   "display_name": "Python 3",
   "language": "python",
   "name": "python3"
  },
  "language_info": {
   "codemirror_mode": {
    "name": "ipython",
    "version": 2
   },
   "file_extension": ".py",
   "mimetype": "text/x-python",
   "name": "python",
   "nbconvert_exporter": "python",
   "pygments_lexer": "ipython2",
   "version": "2.7.6"
  }
 },
 "nbformat": 4,
 "nbformat_minor": 5
}
