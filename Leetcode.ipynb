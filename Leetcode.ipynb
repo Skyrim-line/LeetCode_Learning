{
 "cells": [
  {
   "cell_type": "markdown",
   "source": [
    "# 1."
   ],
   "metadata": {
    "collapsed": false
   },
   "id": "d4627e9c96c18d02"
  },
  {
   "cell_type": "code",
   "execution_count": 22,
   "outputs": [
    {
     "name": "stdout",
     "output_type": "stream",
     "text": [
      "apbqrs\n"
     ]
    }
   ],
   "source": [
    "word1 = \"ab\"\n",
    "word2 = \"pqrs\"\n",
    "result = []\n",
    "if len(word1)==len(word2):\n",
    "    for i in range(len(word1)):\n",
    "        result.append(word1[i])\n",
    "        result.append(word2[i])\n",
    "elif len(word1)>len(word2):\n",
    "    for i in range(len(word2)):\n",
    "        result.append(word1[i])\n",
    "        result.append(word2[i])\n",
    "    for j in word1[len(word2):]:\n",
    "        result.append(j)\n",
    "else:\n",
    "    for i in range(len(word1)):\n",
    "        result.append(word1[i])\n",
    "        result.append(word2[i])\n",
    "    for j in word2[len(word1):]:\n",
    "        result.append(j)\n",
    "    \n",
    "print(''.join(result))"
   ],
   "metadata": {
    "collapsed": false,
    "ExecuteTime": {
     "end_time": "2023-12-08T03:30:48.665968Z",
     "start_time": "2023-12-08T03:30:48.662027Z"
    }
   },
   "id": "54fb0b4de44a47fa"
  },
  {
   "cell_type": "markdown",
   "source": [
    " # 找不同\n",
    " "
   ],
   "metadata": {
    "collapsed": false
   },
   "id": "5f0e9af2f279a1c"
  },
  {
   "cell_type": "code",
   "execution_count": 20,
   "outputs": [
    {
     "name": "stdout",
     "output_type": "stream",
     "text": [
      "a\n"
     ]
    }
   ],
   "source": [
    "from collections import Counter\n",
    "word1 ='a'\n",
    "word2= 'aa'\n",
    "diff = list(Counter(word2)-Counter(word1))\n",
    "print(diff[0])\n",
    "\n"
   ],
   "metadata": {
    "collapsed": false,
    "ExecuteTime": {
     "end_time": "2023-12-13T05:44:38.039893Z",
     "start_time": "2023-12-13T05:44:38.037527Z"
    }
   },
   "id": "85d544315d9575c"
  },
  {
   "cell_type": "markdown",
   "source": [
    "# 找出第一个匹配的下标"
   ],
   "metadata": {
    "collapsed": false
   },
   "id": "3549a1fd21aa9d5b"
  },
  {
   "cell_type": "code",
   "execution_count": 32,
   "outputs": [
    {
     "name": "stdout",
     "output_type": "stream",
     "text": [
      "0\n"
     ]
    }
   ],
   "source": [
    "haystack = \"sadbutsad\"\n",
    "needle = 'sad'\n",
    "# haystack = \"leetcode\"\n",
    "# needle = \"leeto\"\n",
    "# if needle in haystack:\n",
    "#     print(haystack.index(needle))\n",
    "# else:\n",
    "#     print(-1)\n",
    "print(haystack.find(needle))\n"
   ],
   "metadata": {
    "collapsed": false,
    "ExecuteTime": {
     "end_time": "2023-12-14T23:44:41.975751Z",
     "start_time": "2023-12-14T23:44:41.970841Z"
    }
   },
   "id": "a4a0b9f52aef1f5a"
  },
  {
   "cell_type": "markdown",
   "source": [
    "# 字母异或词"
   ],
   "metadata": {
    "collapsed": false
   },
   "id": "74705d4ff6b0a77b"
  },
  {
   "cell_type": "code",
   "execution_count": 39,
   "outputs": [
    {
     "name": "stdout",
     "output_type": "stream",
     "text": [
      "['a', 'r', 't']\n",
      "['a', 'c', 'r']\n",
      "0\n"
     ]
    }
   ],
   "source": [
    "s = \"rat\"\n",
    "t = \"car\"\n",
    "s = sorted(s)\n",
    "print(s)\n",
    "t = sorted(t)\n",
    "print(t)\n",
    "if s==t:\n",
    "    print(1)\n",
    "else:\n",
    "    print(0)"
   ],
   "metadata": {
    "collapsed": false,
    "ExecuteTime": {
     "end_time": "2023-12-14T23:58:41.511063Z",
     "start_time": "2023-12-14T23:58:41.506879Z"
    }
   },
   "id": "5166bf89ef2405d2"
  },
  {
   "cell_type": "code",
   "execution_count": 40,
   "outputs": [],
   "source": [
    "class Solution:\n",
    "    def isAnagram(self, s: str, t: str) -> bool:\n",
    "        if Counter(s) == Counter(t):\n",
    "            return True\n",
    "        else: \n",
    "            return False"
   ],
   "metadata": {
    "collapsed": false,
    "ExecuteTime": {
     "end_time": "2023-12-15T00:13:27.595501Z",
     "start_time": "2023-12-15T00:13:27.592885Z"
    }
   },
   "id": "39931b82ee6dc759"
  },
  {
   "cell_type": "markdown",
   "source": [
    "# 重复的子字符串"
   ],
   "metadata": {
    "collapsed": false
   },
   "id": "2c65123d8b88336e"
  },
  {
   "cell_type": "code",
   "execution_count": 52,
   "outputs": [
    {
     "name": "stdout",
     "output_type": "stream",
     "text": [
      "bababa\n",
      "1\n"
     ]
    }
   ],
   "source": [],
   "metadata": {
    "collapsed": false,
    "ExecuteTime": {
     "end_time": "2023-12-15T10:34:25.943708Z",
     "start_time": "2023-12-15T10:34:25.937377Z"
    }
   },
   "id": "396e3ea80a7f01f5"
  },
  {
   "cell_type": "code",
   "execution_count": 46,
   "outputs": [
    {
     "name": "stdout",
     "output_type": "stream",
     "text": [
      "ab\n"
     ]
    }
   ],
   "source": [
    "s2 = \"ababab\"\n",
    "print(s[2:4])\n",
    "class Solution:\n",
    "    def repeatedSubstringPattern(self, s: str) -> bool:\n",
    "        temp =1\n",
    "        for i in range(1,len(s)//2+1):  # 1,4\n",
    "            if len(s)%i==0:     # 6 % 2 =0 \n",
    "                #1：如果一个字符串能由一个子字符串重复获得，则该字符串的长度必定能被子字符串长度整除。\n",
    "\n",
    "                #2：判断字符串的每一节是否相同\n",
    "                m =i # m=2\n",
    "                while m<= len(s)-i:       # 2<= 6-2 = 4               \n",
    "                    if s[m-i:m]!=s[m:m+i]: # s[2:4] != s[4:6]\n",
    "                        temp= 0\n",
    "                        break\n",
    "                    else:\n",
    "                        temp= 1\n",
    "                    m+=i # m = 2+2 = 4 ; 4+3 = 6\n",
    "                    \n",
    "                if temp==1:\n",
    "                    return True\n",
    "        return False\n",
    "\n"
   ],
   "metadata": {
    "collapsed": false,
    "ExecuteTime": {
     "end_time": "2023-12-15T10:28:33.533253Z",
     "start_time": "2023-12-15T10:28:33.530719Z"
    }
   },
   "id": "7410762b21b4820"
  },
  {
   "cell_type": "code",
   "execution_count": null,
   "outputs": [],
   "source": [],
   "metadata": {
    "collapsed": false
   },
   "id": "2ce9d6bcf7112b"
  }
 ],
 "metadata": {
  "kernelspec": {
   "display_name": "Python 3",
   "language": "python",
   "name": "python3"
  },
  "language_info": {
   "codemirror_mode": {
    "name": "ipython",
    "version": 2
   },
   "file_extension": ".py",
   "mimetype": "text/x-python",
   "name": "python",
   "nbconvert_exporter": "python",
   "pygments_lexer": "ipython2",
   "version": "2.7.6"
  }
 },
 "nbformat": 4,
 "nbformat_minor": 5
}
