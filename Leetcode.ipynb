{
 "cells": [
  {
   "cell_type": "markdown",
   "source": [
    "# 1."
   ],
   "metadata": {
    "collapsed": false
   },
   "id": "d4627e9c96c18d02"
  },
  {
   "cell_type": "code",
   "execution_count": 22,
   "outputs": [
    {
     "name": "stdout",
     "output_type": "stream",
     "text": [
      "apbqrs\n"
     ]
    }
   ],
   "source": [
    "word1 = \"ab\"\n",
    "word2 = \"pqrs\"\n",
    "result = []\n",
    "if len(word1)==len(word2):\n",
    "    for i in range(len(word1)):\n",
    "        result.append(word1[i])\n",
    "        result.append(word2[i])\n",
    "elif len(word1)>len(word2):\n",
    "    for i in range(len(word2)):\n",
    "        result.append(word1[i])\n",
    "        result.append(word2[i])\n",
    "    for j in word1[len(word2):]:\n",
    "        result.append(j)\n",
    "else:\n",
    "    for i in range(len(word1)):\n",
    "        result.append(word1[i])\n",
    "        result.append(word2[i])\n",
    "    for j in word2[len(word1):]:\n",
    "        result.append(j)\n",
    "    \n",
    "print(''.join(result))"
   ],
   "metadata": {
    "collapsed": false,
    "ExecuteTime": {
     "end_time": "2023-12-08T03:30:48.665968Z",
     "start_time": "2023-12-08T03:30:48.662027Z"
    }
   },
   "id": "54fb0b4de44a47fa"
  },
  {
   "cell_type": "markdown",
   "source": [
    " # 找不同\n",
    " "
   ],
   "metadata": {
    "collapsed": false
   },
   "id": "5f0e9af2f279a1c"
  },
  {
   "cell_type": "code",
   "execution_count": 20,
   "outputs": [
    {
     "name": "stdout",
     "output_type": "stream",
     "text": [
      "a\n"
     ]
    }
   ],
   "source": [
    "from collections import Counter\n",
    "word1 ='a'\n",
    "word2= 'aa'\n",
    "diff = list(Counter(word2)-Counter(word1))\n",
    "print(diff[0])\n",
    "\n"
   ],
   "metadata": {
    "collapsed": false,
    "ExecuteTime": {
     "end_time": "2023-12-13T05:44:38.039893Z",
     "start_time": "2023-12-13T05:44:38.037527Z"
    }
   },
   "id": "85d544315d9575c"
  },
  {
   "cell_type": "markdown",
   "source": [
    "# 找出第一个匹配的下标"
   ],
   "metadata": {
    "collapsed": false
   },
   "id": "3549a1fd21aa9d5b"
  },
  {
   "cell_type": "code",
   "execution_count": 32,
   "outputs": [
    {
     "name": "stdout",
     "output_type": "stream",
     "text": [
      "0\n"
     ]
    }
   ],
   "source": [
    "haystack = \"sadbutsad\"\n",
    "needle = 'sad'\n",
    "# haystack = \"leetcode\"\n",
    "# needle = \"leeto\"\n",
    "# if needle in haystack:\n",
    "#     print(haystack.index(needle))\n",
    "# else:\n",
    "#     print(-1)\n",
    "print(haystack.find(needle))\n"
   ],
   "metadata": {
    "collapsed": false,
    "ExecuteTime": {
     "end_time": "2023-12-14T23:44:41.975751Z",
     "start_time": "2023-12-14T23:44:41.970841Z"
    }
   },
   "id": "a4a0b9f52aef1f5a"
  },
  {
   "cell_type": "markdown",
   "source": [
    "# 字母异或词"
   ],
   "metadata": {
    "collapsed": false
   },
   "id": "74705d4ff6b0a77b"
  },
  {
   "cell_type": "code",
   "execution_count": 39,
   "outputs": [
    {
     "name": "stdout",
     "output_type": "stream",
     "text": [
      "['a', 'r', 't']\n",
      "['a', 'c', 'r']\n",
      "0\n"
     ]
    }
   ],
   "source": [
    "s = \"rat\"\n",
    "t = \"car\"\n",
    "s = sorted(s)\n",
    "print(s)\n",
    "t = sorted(t)\n",
    "print(t)\n",
    "if s==t:\n",
    "    print(1)\n",
    "else:\n",
    "    print(0)"
   ],
   "metadata": {
    "collapsed": false,
    "ExecuteTime": {
     "end_time": "2023-12-14T23:58:41.511063Z",
     "start_time": "2023-12-14T23:58:41.506879Z"
    }
   },
   "id": "5166bf89ef2405d2"
  },
  {
   "cell_type": "code",
   "execution_count": 40,
   "outputs": [],
   "source": [
    "class Solution:\n",
    "    def isAnagram(self, s: str, t: str) -> bool:\n",
    "        if Counter(s) == Counter(t):\n",
    "            return True\n",
    "        else: \n",
    "            return False"
   ],
   "metadata": {
    "collapsed": false,
    "ExecuteTime": {
     "end_time": "2023-12-15T00:13:27.595501Z",
     "start_time": "2023-12-15T00:13:27.592885Z"
    }
   },
   "id": "39931b82ee6dc759"
  },
  {
   "cell_type": "markdown",
   "source": [
    "# 重复的子字符串"
   ],
   "metadata": {
    "collapsed": false
   },
   "id": "2c65123d8b88336e"
  },
  {
   "cell_type": "code",
   "execution_count": 52,
   "outputs": [
    {
     "name": "stdout",
     "output_type": "stream",
     "text": [
      "bababa\n",
      "1\n"
     ]
    }
   ],
   "source": [],
   "metadata": {
    "collapsed": false,
    "ExecuteTime": {
     "end_time": "2023-12-15T10:34:25.943708Z",
     "start_time": "2023-12-15T10:34:25.937377Z"
    }
   },
   "id": "396e3ea80a7f01f5"
  },
  {
   "cell_type": "code",
   "execution_count": 46,
   "outputs": [
    {
     "name": "stdout",
     "output_type": "stream",
     "text": [
      "ab\n"
     ]
    }
   ],
   "source": [
    "s2 = \"ababab\"\n",
    "print(s[2:4])\n",
    "class Solution:\n",
    "    def repeatedSubstringPattern(self, s: str) -> bool:\n",
    "        temp =1\n",
    "        for i in range(1,len(s)//2+1):  # 1,4\n",
    "            if len(s)%i==0:     # 6 % 2 =0 \n",
    "                #1：如果一个字符串能由一个子字符串重复获得，则该字符串的长度必定能被子字符串长度整除。6%2，8%4\n",
    "\n",
    "                #2：判断字符串的每一节是否相同\n",
    "                m=i # m=2,m 为当前i所能整除的所在位置\n",
    "                while m<= len(s)-i:       # 2<= 6-2 = 4, m的index大于能被s整除的字串的长度，可以等于          \n",
    "                    if s[m-i:m]!=s[m:m+i]: # s[2:4] != s[4:6]\n",
    "                        temp= 0\n",
    "                        break\n",
    "                    else:\n",
    "                        temp= 1\n",
    "                    m+=i # m = 2+2 = 4 ; 4+3 = 6\n",
    "                    \n",
    "                if temp==1:\n",
    "                    return True\n",
    "        return False\n",
    "\n"
   ],
   "metadata": {
    "collapsed": false,
    "ExecuteTime": {
     "end_time": "2023-12-15T10:28:33.533253Z",
     "start_time": "2023-12-15T10:28:33.530719Z"
    }
   },
   "id": "7410762b21b4820"
  },
  {
   "cell_type": "code",
   "execution_count": 4,
   "outputs": [
    {
     "name": "stdout",
     "output_type": "stream",
     "text": [
      "1\n"
     ]
    }
   ],
   "source": [
    "sample = 'ababab'\n",
    "sample2 = sample+sample\n",
    "if sample in sample2[1:-1]:\n",
    "    print(1)\n",
    "else:\n",
    "    print(0)"
   ],
   "metadata": {
    "collapsed": false,
    "ExecuteTime": {
     "end_time": "2023-12-17T03:57:22.792340Z",
     "start_time": "2023-12-17T03:57:22.789393Z"
    }
   },
   "id": "2ce9d6bcf7112b"
  },
  {
   "cell_type": "markdown",
   "source": [
    "# 移动0"
   ],
   "metadata": {
    "collapsed": false
   },
   "id": "c4f4747e78b58369"
  },
  {
   "cell_type": "code",
   "execution_count": 16,
   "outputs": [
    {
     "name": "stdout",
     "output_type": "stream",
     "text": [
      "[1, 3, 12, 0, 0]\n"
     ]
    }
   ],
   "source": [
    "nums = [0,1,0,3,12]\n",
    "# TODO \n",
    "for i in range(len(nums)):\n",
    "    if nums[i]==0:\n",
    "        temp = nums[i]\n",
    "        nums.remove(nums[i])\n",
    "        nums.append(temp)\n",
    "print(nums)\n",
    "        \n",
    "        \n"
   ],
   "metadata": {
    "collapsed": false,
    "ExecuteTime": {
     "end_time": "2023-12-17T04:41:35.111339Z",
     "start_time": "2023-12-17T04:41:35.101444Z"
    }
   },
   "id": "7a509c63401c2152"
  },
  {
   "cell_type": "code",
   "execution_count": 22,
   "outputs": [
    {
     "ename": "AttributeError",
     "evalue": "'NoneType' object has no attribute 'append'",
     "output_type": "error",
     "traceback": [
      "\u001B[0;31m---------------------------------------------------------------------------\u001B[0m",
      "\u001B[0;31mAttributeError\u001B[0m                            Traceback (most recent call last)",
      "Cell \u001B[0;32mIn[22], line 15\u001B[0m\n\u001B[1;32m     13\u001B[0m     \u001B[38;5;28;01mif\u001B[39;00m nums[i]\u001B[38;5;241m==\u001B[39m\u001B[38;5;241m0\u001B[39m:\n\u001B[1;32m     14\u001B[0m         temp \u001B[38;5;241m=\u001B[39m nums[i]\n\u001B[0;32m---> 15\u001B[0m         \u001B[43mnums\u001B[49m\u001B[38;5;241;43m.\u001B[39;49m\u001B[43mremove\u001B[49m\u001B[43m(\u001B[49m\u001B[43mnums\u001B[49m\u001B[43m[\u001B[49m\u001B[43mi\u001B[49m\u001B[43m]\u001B[49m\u001B[43m)\u001B[49m\u001B[38;5;241;43m.\u001B[39;49m\u001B[43mappend\u001B[49m(temp)\n\u001B[1;32m     16\u001B[0m \u001B[38;5;28mprint\u001B[39m(nums)\n",
      "\u001B[0;31mAttributeError\u001B[0m: 'NoneType' object has no attribute 'append'"
     ]
    }
   ],
   "source": [
    "nums = [0,1,0,3,12]\n",
    "i = -1\n",
    "for j in range(len(nums)):\n",
    "    if nums[j]!=0:\n",
    "        i+=1\n",
    "        # nums[i],nums[j] = nums[j],nums[i]\n",
    "        temp = nums[i]\n",
    "        nums[i] = nums[j]\n",
    "        nums[j] = temp\n",
    "print(nums)\n",
    "        \n",
    "\n",
    "    "
   ],
   "metadata": {
    "collapsed": false,
    "ExecuteTime": {
     "end_time": "2023-12-17T05:09:01.340110Z",
     "start_time": "2023-12-17T05:09:01.310038Z"
    }
   },
   "id": "22ac312ff66aa061"
  },
  {
   "cell_type": "markdown",
   "source": [
    "# 加一"
   ],
   "metadata": {
    "collapsed": false
   },
   "id": "209555f65eefb4a"
  },
  {
   "cell_type": "code",
   "execution_count": 30,
   "outputs": [
    {
     "name": "stdout",
     "output_type": "stream",
     "text": [
      "['1', '0', '0']\n",
      "[1, 0, 0]\n"
     ]
    }
   ],
   "source": [
    "number = [9,9]\n",
    "number = ''.join(str(i) for i in number)\n",
    "last_digit = int(number)+1\n",
    "result = [int(i) for i in list(str(last_digit))]\n",
    "print(result)\n",
    "\n",
    "\n",
    "\n",
    "\n",
    "\n",
    "\n",
    "\n"
   ],
   "metadata": {
    "collapsed": false,
    "ExecuteTime": {
     "end_time": "2023-12-19T22:26:42.641809Z",
     "start_time": "2023-12-19T22:26:42.635940Z"
    }
   },
   "id": "2bb91fef4251218c"
  },
  {
   "cell_type": "markdown",
   "source": [
    "# 数组元素积的符号\n"
   ],
   "metadata": {
    "collapsed": false
   },
   "id": "db7c5cf6278314c7"
  },
  {
   "cell_type": "code",
   "execution_count": 33,
   "outputs": [
    {
     "name": "stdout",
     "output_type": "stream",
     "text": [
      "-1\n"
     ]
    }
   ],
   "source": [
    "nums = [-1,1,-1,1,-1]\n",
    "product = 1\n",
    "for i in nums:\n",
    "    product*=i\n"
   ],
   "metadata": {
    "collapsed": false,
    "ExecuteTime": {
     "end_time": "2023-12-20T11:59:28.893488Z",
     "start_time": "2023-12-20T11:59:28.891360Z"
    }
   },
   "id": "dd032d1f8205b25a"
  },
  {
   "cell_type": "code",
   "execution_count": null,
   "outputs": [],
   "source": [
    "product = 1\n",
    "for i in nums:\n",
    "    product*=i\n",
    "if product>0:\n",
    "    return 1\n",
    "elif product<0:\n",
    "    return -1\n",
    "else:\n",
    "    return 0"
   ],
   "metadata": {
    "collapsed": false
   },
   "id": "8674f83ab290808c"
  },
  {
   "cell_type": "markdown",
   "source": [
    "# 判断能否形成等差数列"
   ],
   "metadata": {
    "collapsed": false
   },
   "id": "b51f589498341cd3"
  },
  {
   "cell_type": "code",
   "execution_count": 3,
   "outputs": [
    {
     "name": "stdout",
     "output_type": "stream",
     "text": [
      "{1, 2}\n",
      "False\n"
     ]
    }
   ],
   "source": [
    "arr = [1,2,4]\n",
    "arr = sorted(arr)\n",
    "p1 = arr[0]\n",
    "empty = set()\n",
    "for i in range(1,len(arr)):\n",
    "    gap = arr[i]-p1\n",
    "    empty.add(gap)\n",
    "    p1 = arr[i]\n",
    "print(empty)\n",
    "if len(empty)==1:\n",
    "    print('True')\n",
    "else:\n",
    "    print('False')\n",
    "    \n",
    "    \n"
   ],
   "metadata": {
    "collapsed": false,
    "ExecuteTime": {
     "end_time": "2023-12-26T05:46:41.897625Z",
     "start_time": "2023-12-26T05:46:41.890614Z"
    }
   },
   "id": "b37dabb8c8a8d2df"
  },
  {
   "cell_type": "code",
   "execution_count": 4,
   "outputs": [
    {
     "name": "stdout",
     "output_type": "stream",
     "text": [
      "False\n"
     ]
    }
   ],
   "source": [
    "arr = [1,2,4,8,10] # len(arr) == 5\n",
    "arr.sort()\n",
    "for i in range(1,len(arr)-1): # (1,4)相当于下标1到3\n",
    "    if (arr[i]-arr[i-1])!=(arr[i+1]-arr[i]):\n",
    "        print('False')\n",
    "    else:\n",
    "        print('True')"
   ],
   "metadata": {
    "collapsed": false,
    "ExecuteTime": {
     "end_time": "2023-12-26T05:50:36.420007Z",
     "start_time": "2023-12-26T05:50:36.392500Z"
    }
   },
   "id": "3af62dd09e436829"
  },
  {
   "cell_type": "markdown",
   "source": [
    "# 单调数列"
   ],
   "metadata": {
    "collapsed": false
   },
   "id": "33e4425e671151bc"
  },
  {
   "cell_type": "code",
   "execution_count": 22,
   "outputs": [
    {
     "data": {
      "text/plain": "True"
     },
     "execution_count": 22,
     "metadata": {},
     "output_type": "execute_result"
    }
   ],
   "source": [
    "\n",
    "arr = [3,5,1]\n",
    "def f1():\n",
    "    arr.sort()\n",
    "    gaps = arr[1]-arr[0]\n",
    "    for i in range(2,len(arr)):\n",
    "        if arr[i]-arr[i-1]!=gaps:\n",
    "            return False\n",
    "    return True\n",
    "\n",
    "f1()\n"
   ],
   "metadata": {
    "collapsed": false,
    "ExecuteTime": {
     "end_time": "2023-12-27T11:16:42.829156Z",
     "start_time": "2023-12-27T11:16:42.825536Z"
    }
   },
   "id": "75cc5fb351c1f220"
  },
  {
   "cell_type": "code",
   "execution_count": 6,
   "outputs": [
    {
     "name": "stdout",
     "output_type": "stream",
     "text": [
      "False\n",
      "True\n"
     ]
    }
   ],
   "source": [
    "# nums = [1,3,2,1]\n",
    "nums = [6,5,4,4]\n",
    "def f2():\n",
    "    for i in range(1,len(nums)-1):\n",
    "        if ((nums[i]>=nums[i-1]) and (nums[i+1]>=nums[i])) or ((nums[i]<=nums[i-1]) and (nums[i+1]<=nums[i])):\n",
    "            continue\n",
    "        else:\n",
    "            print('False')\n",
    "    print('True')\n",
    "f2()"
   ],
   "metadata": {
    "collapsed": false,
    "ExecuteTime": {
     "end_time": "2023-12-30T05:36:05.637084Z",
     "start_time": "2023-12-30T05:36:05.630471Z"
    }
   },
   "id": "32020dcdcf428c7b"
  },
  {
   "cell_type": "code",
   "execution_count": 16,
   "outputs": [
    {
     "name": "stdout",
     "output_type": "stream",
     "text": [
      "[4, 4, 5, 6]\n",
      "[4, 4, 5, 6]\n"
     ]
    }
   ],
   "source": [
    "nums = [6,5,4,4]\n",
    "# nums = [1,2,3,4,5,6]\n",
    "# nums = [1,3,2]\n",
    "temp = sorted(nums)\n",
    "if temp==nums:\n",
    "    print('True')\n",
    "else:\n",
    "    nums.reverse()\n",
    "    print(nums)\n",
    "    print(temp)\n",
    "    \n",
    "    "
   ],
   "metadata": {
    "collapsed": false,
    "ExecuteTime": {
     "end_time": "2023-12-30T05:49:01.852689Z",
     "start_time": "2023-12-30T05:49:01.845020Z"
    }
   },
   "id": "7990c1162dfba653"
  },
  {
   "cell_type": "markdown",
   "source": [
    "# 罗马数字转整数"
   ],
   "metadata": {
    "collapsed": false
   },
   "id": "c1822a829fa2136b"
  },
  {
   "cell_type": "code",
   "execution_count": 1,
   "outputs": [
    {
     "name": "stdout",
     "output_type": "stream",
     "text": [
      "4\n"
     ]
    }
   ],
   "source": [
    "# method1\n",
    "s='IV'\n",
    "dic_number = {'I':1, 'V':5, 'X':10, 'L':50, 'C':100, 'D':500, 'M':1000}\n",
    "result = 0\n",
    "for i in range(len(s)):\n",
    "    if i<len(s)-1 and dic_number[s[i]]<dic_number[s[i+1]]:\n",
    "        result-=dic_number[s[i]]\n",
    "    else:\n",
    "        result+=dic_number[s[i]]\n",
    "print(result)"
   ],
   "metadata": {
    "collapsed": false,
    "ExecuteTime": {
     "end_time": "2024-01-01T23:36:02.113424Z",
     "start_time": "2024-01-01T23:36:02.106449Z"
    }
   },
   "id": "c5fd4f67d9109229"
  },
  {
   "cell_type": "code",
   "execution_count": 2,
   "outputs": [
    {
     "name": "stdout",
     "output_type": "stream",
     "text": [
      "8\n"
     ]
    }
   ],
   "source": [
    "# method2\n",
    "s='VIII'\n",
    "ans = 0\n",
    "dic_number = {'I':1, 'V':5, 'X':10, 'L':50, 'C':100, 'D':500, 'M':1000}\n",
    "if 'IX' in s:\n",
    "    s=s.replace('IX','')\n",
    "    ans+=9\n",
    "if 'IV' in s:\n",
    "    s=s.replace('IV','')\n",
    "if 'XL' in s:\n",
    "    s=s.replace('XL','')\n",
    "for i in s:\n",
    "    ans+=dic_number[i]\n",
    "print(ans)"
   ],
   "metadata": {
    "collapsed": false,
    "ExecuteTime": {
     "end_time": "2024-01-02T00:02:58.028001Z",
     "start_time": "2024-01-02T00:02:58.011956Z"
    }
   },
   "id": "8dc309233f2ecf24"
  },
  {
   "cell_type": "markdown",
   "source": [
    "# 最后一个单词长度"
   ],
   "metadata": {
    "collapsed": false
   },
   "id": "827a87d855c9b207"
  },
  {
   "cell_type": "code",
   "execution_count": 4,
   "outputs": [
    {
     "name": "stdout",
     "output_type": "stream",
     "text": [
      "6\n"
     ]
    }
   ],
   "source": [
    "s = \"   luffy is still joyboy\"\n",
    "s = s.strip().split()\n",
    "print(len(s[-1]))\n"
   ],
   "metadata": {
    "collapsed": false,
    "ExecuteTime": {
     "end_time": "2024-01-02T03:32:20.442040Z",
     "start_time": "2024-01-02T03:32:20.433734Z"
    }
   },
   "id": "71361c351d7d1214"
  },
  {
   "cell_type": "markdown",
   "source": [
    "# 转换成小写字母"
   ],
   "metadata": {
    "collapsed": false
   },
   "id": "a909c8e4a94c1529"
  },
  {
   "cell_type": "code",
   "execution_count": null,
   "outputs": [],
   "source": [],
   "metadata": {
    "collapsed": false
   },
   "id": "fb7863cd0def620c"
  }
 ],
 "metadata": {
  "kernelspec": {
   "display_name": "Python 3",
   "language": "python",
   "name": "python3"
  },
  "language_info": {
   "codemirror_mode": {
    "name": "ipython",
    "version": 2
   },
   "file_extension": ".py",
   "mimetype": "text/x-python",
   "name": "python",
   "nbconvert_exporter": "python",
   "pygments_lexer": "ipython2",
   "version": "2.7.6"
  }
 },
 "nbformat": 4,
 "nbformat_minor": 5
}
