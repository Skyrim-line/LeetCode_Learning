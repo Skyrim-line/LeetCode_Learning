{
 "cells": [
  {
   "cell_type": "markdown",
   "source": [
    "# 1."
   ],
   "metadata": {
    "collapsed": false
   },
   "id": "d4627e9c96c18d02"
  },
  {
   "cell_type": "code",
   "execution_count": 22,
   "outputs": [
    {
     "name": "stdout",
     "output_type": "stream",
     "text": [
      "apbqrs\n"
     ]
    }
   ],
   "source": [
    "word1 = \"ab\"\n",
    "word2 = \"pqrs\"\n",
    "result = []\n",
    "if len(word1)==len(word2):\n",
    "    for i in range(len(word1)):\n",
    "        result.append(word1[i])\n",
    "        result.append(word2[i])\n",
    "elif len(word1)>len(word2):\n",
    "    for i in range(len(word2)):\n",
    "        result.append(word1[i])\n",
    "        result.append(word2[i])\n",
    "    for j in word1[len(word2):]:\n",
    "        result.append(j)\n",
    "else:\n",
    "    for i in range(len(word1)):\n",
    "        result.append(word1[i])\n",
    "        result.append(word2[i])\n",
    "    for j in word2[len(word1):]:\n",
    "        result.append(j)\n",
    "    \n",
    "print(''.join(result))"
   ],
   "metadata": {
    "collapsed": false,
    "ExecuteTime": {
     "end_time": "2023-12-08T03:30:48.665968Z",
     "start_time": "2023-12-08T03:30:48.662027Z"
    }
   },
   "id": "54fb0b4de44a47fa"
  },
  {
   "cell_type": "code",
   "execution_count": null,
   "outputs": [],
   "source": [
    " "
   ],
   "metadata": {
    "collapsed": false
   },
   "id": "af278925aa23380b"
  }
 ],
 "metadata": {
  "kernelspec": {
   "display_name": "Python 3",
   "language": "python",
   "name": "python3"
  },
  "language_info": {
   "codemirror_mode": {
    "name": "ipython",
    "version": 2
   },
   "file_extension": ".py",
   "mimetype": "text/x-python",
   "name": "python",
   "nbconvert_exporter": "python",
   "pygments_lexer": "ipython2",
   "version": "2.7.6"
  }
 },
 "nbformat": 4,
 "nbformat_minor": 5
}
