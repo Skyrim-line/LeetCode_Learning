{
 "cells": [
  {
   "cell_type": "code",
   "execution_count": null,
   "id": "initial_id",
   "metadata": {
    "collapsed": true
   },
   "outputs": [],
   "source": [
    "l1=[1,3]\n",
    "l2=[2,4]\n"
   ]
  },
  {
   "cell_type": "code",
   "execution_count": 13,
   "outputs": [
    {
     "name": "stdout",
     "output_type": "stream",
     "text": [
      "432\n",
      "[8, 0, 7]\n"
     ]
    }
   ],
   "source": [
    "w=[2,3,4]\n",
    "w.reverse()\n",
    "print(int(''.join(str(i) for i in w)))\n",
    "temp=342\n",
    "empty=465\n",
    "res = temp+empty\n",
    "res = [int(i) for i in list(str(res))]\n",
    "print(res)"
   ],
   "metadata": {
    "collapsed": false,
    "ExecuteTime": {
     "end_time": "2024-01-19T22:52:42.239203Z",
     "start_time": "2024-01-19T22:52:42.234261Z"
    }
   },
   "id": "6ae0ad19e6a68a06"
  },
  {
   "cell_type": "code",
   "execution_count": null,
   "outputs": [],
   "source": [],
   "metadata": {
    "collapsed": false
   },
   "id": "1db517b581512edb"
  }
 ],
 "metadata": {
  "kernelspec": {
   "display_name": "Python 3",
   "language": "python",
   "name": "python3"
  },
  "language_info": {
   "codemirror_mode": {
    "name": "ipython",
    "version": 2
   },
   "file_extension": ".py",
   "mimetype": "text/x-python",
   "name": "python",
   "nbconvert_exporter": "python",
   "pygments_lexer": "ipython2",
   "version": "2.7.6"
  }
 },
 "nbformat": 4,
 "nbformat_minor": 5
}
