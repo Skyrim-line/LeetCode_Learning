{
 "cells": [
  {
   "cell_type": "code",
   "execution_count": null,
   "id": "initial_id",
   "metadata": {
    "collapsed": true
   },
   "outputs": [],
   "source": [
    "        l1=[1,3]\n",
    "l2=[2,4]\n"
   ]
  },
  {
   "cell_type": "code",
   "execution_count": 13,
   "outputs": [
    {
     "name": "stdout",
     "output_type": "stream",
     "text": [
      "432\n",
      "[8, 0, 7]\n"
     ]
    }
   ],
   "source": [
    "w=[2,3,4]\n",
    "w.reverse()\n",
    "print(int(''.join(str(i) for i in w)))\n",
    "temp=342\n",
    "empty=465\n",
    "res = temp+empty\n",
    "res = [int(i) for i in list(str(res))]\n",
    "print(res)"
   ],
   "metadata": {
    "collapsed": false,
    "ExecuteTime": {
     "end_time": "2024-01-19T22:52:42.239203Z",
     "start_time": "2024-01-19T22:52:42.234261Z"
    }
   },
   "id": "6ae0ad19e6a68a06"
  },
  {
   "cell_type": "code",
   "execution_count": 4,
   "outputs": [
    {
     "name": "stdout",
     "output_type": "stream",
     "text": [
      "Yes\n",
      "ba\n",
      "[]\n",
      "[]\n"
     ]
    }
   ],
   "source": [
    "s='abcd'\n",
    "goal='abcd'\n",
    "if set(s)==set(goal):\n",
    "    print('Yes')\n",
    "h1='ab'\n",
    "print(h1[::-1])\n",
    "temp=[]\n",
    "goal2=[]\n",
    "for i in range(len(s)):\n",
    "    if s[i]==goal[i]:\n",
    "        continue\n",
    "    else:\n",
    "        temp.append(s[i])\n",
    "        goal2.append(goal[i])\n",
    "print(temp)\n",
    "print(goal2)\n",
    "\n",
    "        \n"
   ],
   "metadata": {
    "collapsed": false,
    "ExecuteTime": {
     "end_time": "2024-01-23T05:16:48.972340Z",
     "start_time": "2024-01-23T05:16:48.961977Z"
    }
   },
   "id": "1db517b581512edb"
  },
  {
   "cell_type": "code",
   "execution_count": 21,
   "outputs": [
    {
     "name": "stdout",
     "output_type": "stream",
     "text": [
      "['abcd', 'bnrt', 'crm', 'dt']\n",
      "['abcd', 'bnrt', 'crm', 'dt']\n",
      "1\n"
     ]
    }
   ],
   "source": [
    "word1=[\"abcd\",\"bnrt\",\"crm\",\"dt\"]\n",
    "# word1=[\n",
    "#   \"abcd\",\n",
    "#   \"bnrt\",\n",
    "#   \"crmy\",\n",
    "#   \"dtye\"\n",
    "# ]\n",
    "from itertools import zip_longest\n",
    "        \n",
    "# word=list(zip(*word1))\n",
    "\n",
    "# word = [''.join(tuple) for tuple in word]\n",
    "\n",
    "print(word1)\n",
    "words=[x for x in zip_longest(*word1,fillvalue='')]\n",
    "words=[''.join(x) for x in words]\n",
    "print(words)\n",
    "if words==word1:\n",
    "    print(1)\n",
    "else:\n",
    "    print(2)"
   ],
   "metadata": {
    "collapsed": false,
    "ExecuteTime": {
     "end_time": "2024-01-24T12:48:18.636909Z",
     "start_time": "2024-01-24T12:48:18.633268Z"
    }
   },
   "id": "f6b42cbc6adf28e0"
  },
  {
   "cell_type": "code",
   "execution_count": null,
   "outputs": [],
   "source": [
    "from itertools import zip_longest\n",
    "matrix2=[\n",
    "    [1,2,3],\n",
    "    [4,5,6],\n",
    "    [7,8]\n",
    "]\n",
    "t2=[x for x in zip_longest(*matrix2,fillvalue='')]\n",
    "print(t2)"
   ],
   "metadata": {
    "collapsed": false
   },
   "id": "a9fb53bb8a0263d5"
  },
  {
   "cell_type": "markdown",
   "source": [
    "# 矩阵"
   ],
   "metadata": {
    "collapsed": false
   },
   "id": "6a1853ceb28d49e2"
  },
  {
   "cell_type": "code",
   "execution_count": 24,
   "outputs": [
    {
     "name": "stdout",
     "output_type": "stream",
     "text": [
      "1\n"
     ]
    }
   ],
   "source": [
    "# matrix = [[1,2,3,4],[5,1,2,3],[9,5,1,2]]\n",
    "matrix=[[1,2],[2,2]]\n",
    "for i in range(len(matrix)-1):\n",
    "    for j in range(len(matrix[i])-1):\n",
    "        if matrix[i][j]!=matrix[i+1][j+1]:\n",
    "            print(1)\n"
   ],
   "metadata": {
    "collapsed": false,
    "ExecuteTime": {
     "end_time": "2024-01-24T13:25:15.383322Z",
     "start_time": "2024-01-24T13:25:15.375998Z"
    }
   },
   "id": "73eca90da341d753"
  },
  {
   "cell_type": "code",
   "execution_count": 32,
   "outputs": [
    {
     "name": "stdout",
     "output_type": "stream",
     "text": [
      "[]\n"
     ]
    }
   ],
   "source": [
    "# nums = [0, 1, 3, 50, 75]\n",
    "nums=[-1]\n",
    "lower,upper = 1,1\n",
    "temres=[]\n",
    "result=[]\n",
    "\n",
    "for i in range(len(nums)-1):\n",
    "    if nums[i]+1!=nums[i+1]:\n",
    "        temres.append([nums[i]+1,nums[i+1]-1])\n",
    "if nums[-1] in range(lower,upper):\n",
    "    temres.append([nums[-1]+1,upper])\n",
    "\n",
    "\n",
    "print(temres)\n",
    "        \n"
   ],
   "metadata": {
    "collapsed": false,
    "ExecuteTime": {
     "end_time": "2024-01-25T05:01:21.313510Z",
     "start_time": "2024-01-25T05:01:21.309464Z"
    }
   },
   "id": "d7b63e7f9fc6f0f8"
  },
  {
   "cell_type": "code",
   "execution_count": 43,
   "outputs": [
    {
     "name": "stdout",
     "output_type": "stream",
     "text": [
      "['0->2', '4->5', '7']\n"
     ]
    }
   ],
   "source": [
    "# nums = [0, 2, 3, 4, 6, 8, 9]\n",
    "nums = [0,1,2,4,5,7]\n",
    "# [\"0\", \"2->4\", \"6\", \"8->9\"]\n",
    "sample = []\n",
    "start = end = nums[0]\n",
    "\n",
    "for num in nums[1:]:\n",
    "    if num != end + 1:\n",
    "        if start == end:\n",
    "            sample.append(str(start))\n",
    "        else:\n",
    "            sample.append(f\"{start}->{end}\")\n",
    "        start= num\n",
    "        end=num\n",
    "    else:\n",
    "        end = num\n",
    "\n",
    "# 处理最后一个范围\n",
    "if start == end:\n",
    "    sample.append(str(start))\n",
    "else:\n",
    "    sample.append(f\"{start}->{end}\")\n",
    "\n",
    "print(sample)\n"
   ],
   "metadata": {
    "collapsed": false,
    "ExecuteTime": {
     "end_time": "2024-01-25T13:28:45.233920Z",
     "start_time": "2024-01-25T13:28:45.228606Z"
    }
   },
   "id": "b95781bc5731160d"
  },
  {
   "cell_type": "code",
   "execution_count": 40,
   "outputs": [
    {
     "name": "stdout",
     "output_type": "stream",
     "text": [
      "['0', '2->4', '6', '8->9']\n"
     ]
    }
   ],
   "source": [
    "nums = [0, 2, 3, 4, 6, 8, 9]\n",
    "# nums = [0,1,2,4,5,7]\n",
    "# [\"0\", \"2->4\", \"6\", \"8->9\"]\n",
    "sample = []\n",
    "start = end = nums[0]\n",
    "\n",
    "for num in nums[1:] + [None]:  # 添加 None 以确保最后一个范围能够被处理\n",
    "    if num != end + 1:\n",
    "        if start == end:\n",
    "            sample.append(str(start))\n",
    "        else:\n",
    "            sample.append(f\"{start}->{end}\")\n",
    "        start = end = num\n",
    "    else:\n",
    "        end = num\n",
    "\n",
    "print(sample)\n"
   ],
   "metadata": {
    "collapsed": false,
    "ExecuteTime": {
     "end_time": "2024-01-25T13:27:07.074083Z",
     "start_time": "2024-01-25T13:27:07.071807Z"
    }
   },
   "id": "559889e1303537c7"
  },
  {
   "cell_type": "code",
   "execution_count": 47,
   "outputs": [
    {
     "name": "stdout",
     "output_type": "stream",
     "text": [
      "False\n",
      "False\n",
      "False\n"
     ]
    }
   ],
   "source": [
    "n=1234\n",
    "# numdict={1:1,6:9,8:8,9:6,10:1,11:11,16:91,18:81,19:61}\n",
    "# 1,6,8,9,10\n",
    "numsdict=['1','6','8','9','0']\n",
    "n=str(n)\n",
    "for i in n:\n",
    "    if i not in numsdict:\n",
    "        print('False')\n",
    "\n",
    "        \n",
    "\n"
   ],
   "metadata": {
    "collapsed": false,
    "ExecuteTime": {
     "end_time": "2024-01-25T23:46:00.278777Z",
     "start_time": "2024-01-25T23:46:00.269801Z"
    }
   },
   "id": "19f131f0fa3476e8"
  },
  {
   "cell_type": "code",
   "execution_count": 56,
   "outputs": [
    {
     "name": "stdout",
     "output_type": "stream",
     "text": [
      "69\n"
     ]
    }
   ],
   "source": [
    "num='69'\n",
    "new=''\n",
    "dict1={'0':'0','1':'1','6':'9','9':'6','8':'8'}\n",
    "for v in num:\n",
    "    if v not in dict1:\n",
    "        print(False)\n",
    "    new=dict1[v]+new\n",
    "print(new)\n"
   ],
   "metadata": {
    "collapsed": false,
    "ExecuteTime": {
     "end_time": "2024-01-26T00:40:45.131455Z",
     "start_time": "2024-01-26T00:40:45.125269Z"
    }
   },
   "id": "f50a570b0bfae29c"
  },
  {
   "cell_type": "code",
   "execution_count": 1,
   "outputs": [
    {
     "name": "stdout",
     "output_type": "stream",
     "text": [
      "True\n",
      "False\n",
      "True\n",
      "False\n"
     ]
    }
   ],
   "source": [
    "# 示例 1\n",
    "list1 = [False, False, True, False]\n",
    "result1 = any(list1)\n",
    "print(result1)  # 输出 True，因为列表中至少有一个元素为真\n",
    "\n",
    "# 示例 2\n",
    "tuple1 = (0, 0, 0, 0)\n",
    "result2 = any(tuple1)\n",
    "print(result2)  # 输出 False，因为元组中所有元素都为假\n",
    "\n",
    "# 示例 3\n",
    "set1 = {False, True, False}\n",
    "result3 = any(set1)\n",
    "print(result3)  # 输出 True，因为集合中至少有一个元素为真\n",
    "\n",
    "# 示例 4\n",
    "empty_list = []\n",
    "result4 = any(empty_list)\n",
    "print(result4)  # 输出 False，因为空列表中没有任何元素\n"
   ],
   "metadata": {
    "collapsed": false,
    "ExecuteTime": {
     "end_time": "2024-01-27T00:31:43.885283Z",
     "start_time": "2024-01-27T00:31:43.879284Z"
    }
   },
   "id": "59e450e58c871e75"
  },
  {
   "cell_type": "code",
   "execution_count": 60,
   "outputs": [],
   "source": [
    "# f('1 + 2 = 3')\n",
    "# f('1_3 + 2_4 = 387')\n",
    "# f('__ + ___ = ____')\n",
    "# f('1_3 + 2_4 = 388')\n",
    "# f('0_ + 00 = 0_ ')\n",
    "\n",
    "# 有可能有多个solution\n",
    "def f(expression):\n",
    "    '''\n",
    "    >>> f('1 + 2 = 3')\n",
    "    >>> f('1_3 + 2_4 = 387')\n",
    "    143 + 244 = 387\n",
    "    >>> f('__ + ___ = ____')\n",
    "    0 + 0 = 0\n",
    "    >>> f('1_3 + 2_4 = 388')\n",
    "    No solution!\n",
    "    >>> f('0_ + 00 = 0_ ')\n",
    "    0 + 0 = 0\n",
    "    1 + 0 = 1\n",
    "    2 + 0 = 2\n",
    "    3 + 0 = 3\n",
    "    4 + 0 = 4\n",
    "    5 + 0 = 5\n",
    "    6 + 0 = 6\n",
    "    7 + 0 = 7\n",
    "    8 + 0 = 8\n",
    "    9 + 0 = 9\n",
    "    '''\n",
    "    parts=expression.split('=')\n",
    "    left=parts[0].strip().split('+')\n",
    "    target=parts[1].strip()\n",
    "    num1,num2=left[0].strip(),left[1].strip()\n",
    "    # print(num1,num2)\n",
    "    if '_' not in (num1 or num2 or target):\n",
    "        return \n",
    "    solution_found=False\n",
    "    for i in range(10):\n",
    "        current_num1 = num1.replace('_', str(i))\n",
    "        current_num2 = num2.replace('_', str(i))\n",
    "        current_target=target.replace('_',str(i))\n",
    "        # print(current_num1, current_num2,current_target)\n",
    "        if (int(current_num1)+int(current_num2))==int(current_target):\n",
    "            print(f'{int(current_num1)} + {int(current_num2)} = {int(current_target)}')\n",
    "            solution_found=True\n",
    "    if not solution_found:\n",
    "        print('No solution!')\n",
    "            \n",
    "    \n",
    "        \n",
    "            \n",
    "\n",
    "            \n",
    "\n",
    "          \n",
    "\n",
    "\n",
    "# f('1_3 + 2_4 = 387')\n",
    "# f('__ + ___ = ____')\n",
    "# f('1_3 + 2_4 = 388')\n",
    "# f('0_ + 00 = 0_ ')\n",
    "# \n",
    "if __name__ == '__main__':\n",
    "    import doctest\n",
    "\n",
    "    doctest.testmod()"
   ],
   "metadata": {
    "collapsed": false,
    "ExecuteTime": {
     "end_time": "2024-01-27T10:59:48.448300Z",
     "start_time": "2024-01-27T10:59:48.441446Z"
    }
   },
   "id": "ebc6630816e17e07"
  },
  {
   "cell_type": "code",
   "execution_count": 112,
   "outputs": [],
   "source": [
    "# 蛇形打印，从一个别的字母开始，\n",
    "# 蛇形打印是从A开始，别的是从 O 开始\n",
    "def f(height, width, starting_with = 'A'):\n",
    "    '''\n",
    "    >>> f(0, 0)\n",
    "    >>> f(4, 0)\n",
    "    A\n",
    "    B\n",
    "    C\n",
    "    D\n",
    "    >>> f(0, 4)\n",
    "    ABCD\n",
    "    >>> f(4, 4, 'X')\n",
    "    XEFM\n",
    "    YDGL\n",
    "    ZCHK\n",
    "    ABIJ\n",
    "    '''\n",
    "\n",
    "    alpha=''\n",
    "    if width==0:\n",
    "        for i in range(height):\n",
    "            print(chr(ord('A')+i))\n",
    "    elif height==0:\n",
    "        temp=''\n",
    "        for i in range(width):\n",
    "            temp+=chr(ord('A')+i)\n",
    "        print(temp)\n",
    "        \n",
    "    d = ord(starting_with)\n",
    "    result=[]\n",
    "    for i in range(height):\n",
    "        for j in range(width):\n",
    "            alpha += chr(d)\n",
    "            d = (d - ord('A') + 1) % 26 + ord('A')  # 循环递增字母\n",
    "        if i%2!=0:\n",
    "            result.append(alpha[::-1])\n",
    "        else:\n",
    "            result.append(alpha)\n",
    "        alpha=''\n",
    "    # print(result)\n",
    "    for i in zip(*result):\n",
    "        print(''.join(i))\n",
    "\n",
    "# f(4, 4, 'X')\n",
    "\n",
    "if __name__ == '__main__':\n",
    "    import doctest\n",
    "\n",
    "    doctest.testmod()"
   ],
   "metadata": {
    "collapsed": false,
    "ExecuteTime": {
     "end_time": "2024-01-27T13:00:05.293016Z",
     "start_time": "2024-01-27T13:00:05.287608Z"
    }
   },
   "id": "ce6e089c70ce1c46"
  },
  {
   "cell_type": "code",
   "execution_count": 99,
   "outputs": [
    {
     "name": "stdout",
     "output_type": "stream",
     "text": [
      "AZYX\n",
      "EDCB\n",
      "IHGF\n",
      "MLKJ\n"
     ]
    }
   ],
   "source": [
    "source_rows = ['AZYX', 'BCDE', 'IHGF', 'JKLM']\n",
    "\n",
    "target_rows = []\n",
    "\n",
    "for i, row in enumerate(source_rows):\n",
    "    if i % 2 == 0:\n",
    "        # 对于偶数行，保持原始顺序\n",
    "        target_rows.append(row)\n",
    "    else:\n",
    "        # 对于奇数行，生成倒序的蛇形排列\n",
    "        target_rows.append(''.join(sorted(row, reverse=True)))\n",
    "\n",
    "# 输出结果\n",
    "for row in target_rows:\n",
    "    print(row)\n"
   ],
   "metadata": {
    "collapsed": false,
    "ExecuteTime": {
     "end_time": "2024-01-27T12:52:55.815218Z",
     "start_time": "2024-01-27T12:52:55.812500Z"
    }
   },
   "id": "f562800d0ac0d2b3"
  },
  {
   "cell_type": "code",
   "execution_count": 1,
   "outputs": [
    {
     "name": "stdout",
     "output_type": "stream",
     "text": [
      "XEFM\n",
      "YDGL\n",
      "ZCHK\n",
      "ABIJ\n"
     ]
    }
   ],
   "source": [
    "# 蛇形打印，从一个别的字母开始，\n",
    "# 蛇形打印是从A开始，别的是从 O 开始\n",
    "def f(height, width, starting_with = 'A'):\n",
    "\n",
    "    alpha = ''\n",
    "    if width == 0:\n",
    "        for i in range(height):\n",
    "            print(chr(ord('A') + i))\n",
    "    elif height == 0:\n",
    "        temp = ''\n",
    "        for i in range(width):\n",
    "            temp += chr(ord('A') + i)\n",
    "        print(temp)\n",
    "\n",
    "    d = ord(starting_with)\n",
    "    result = []\n",
    "    for i in range(height):\n",
    "        for j in range(width):\n",
    "            alpha += chr(d)\n",
    "            d = (d - ord('A') + 1) % 26 + ord('A')  # 循环递增字母\n",
    "        if i % 2 != 0:\n",
    "            result.append(alpha[::-1])\n",
    "        else:\n",
    "            result.append(alpha)\n",
    "        alpha = ''\n",
    "    # print(result)\n",
    "    for i in zip(*result):\n",
    "        print(''.join(i))\n",
    "\n",
    "f(4,4,'X')\n"
   ],
   "metadata": {
    "collapsed": false,
    "ExecuteTime": {
     "end_time": "2024-01-27T13:58:31.454952Z",
     "start_time": "2024-01-27T13:58:31.448293Z"
    }
   },
   "id": "6ba9e1508eaa7e4c"
  },
  {
   "cell_type": "code",
   "execution_count": 2,
   "outputs": [
    {
     "name": "stdout",
     "output_type": "stream",
     "text": [
      "The function takes 2.8848648071289062e-05 to solve it\n"
     ]
    }
   ],
   "source": [
    "import time\n",
    "\n",
    "def create_staircase(nums):\n",
    "    step =1 \n",
    "    subsets=[]\n",
    "    while len(nums)!=0:\n",
    "        if len(nums)>=step:\n",
    "            subsets.append(nums[0:step])\n",
    "            nums = nums[step:]\n",
    "            step+=1\n",
    "        else:\n",
    "            return False\n",
    "    return subsets\n",
    "start_time = time.time()\n",
    "create_staircase([1,2,3,4,5,6])\n",
    "end_time = time.time()\n",
    "time_use = end_time-start_time\n",
    "print(f\"The function takes {time_use} to solve it\")\n"
   ],
   "metadata": {
    "collapsed": false,
    "ExecuteTime": {
     "end_time": "2024-03-05T00:18:33.069617Z",
     "start_time": "2024-03-05T00:18:33.061762Z"
    }
   },
   "id": "f76a7df5a4a75a4c"
  },
  {
   "cell_type": "code",
   "execution_count": 3,
   "outputs": [
    {
     "name": "stdout",
     "output_type": "stream",
     "text": [
      "The function takes 2.09808349609375e-05 to solve it\n"
     ]
    }
   ],
   "source": [
    "\n",
    "import time\n",
    "\n",
    "def create_staircase(nums):\n",
    "    while len(nums) != 0:\n",
    "        step = 1\n",
    "        subsets = []\n",
    "        if len(nums) >= step:\n",
    "            subsets.append(nums[0:step])\n",
    "            nums = nums[step:]\n",
    "            step += 1\n",
    "        else:\n",
    "            return False\n",
    "    return subsets\n",
    "\n",
    "start_time = time.time()\n",
    "create_staircase([1, 2, 3, 4, 5, 6])\n",
    "end_time = time.time()\n",
    "time_use = end_time - start_time\n",
    "print(f\"The function takes {time_use} to solve it\")"
   ],
   "metadata": {
    "collapsed": false,
    "ExecuteTime": {
     "end_time": "2024-03-05T00:18:38.151916Z",
     "start_time": "2024-03-05T00:18:38.148933Z"
    }
   },
   "id": "bf4ea3577985cc0b"
  },
  {
   "cell_type": "code",
   "execution_count": null,
   "outputs": [],
   "source": [],
   "metadata": {
    "collapsed": false
   },
   "id": "88f0fe4b97a0b53d"
  }
 ],
 "metadata": {
  "kernelspec": {
   "display_name": "Python 3",
   "language": "python",
   "name": "python3"
  },
  "language_info": {
   "codemirror_mode": {
    "name": "ipython",
    "version": 2
   },
   "file_extension": ".py",
   "mimetype": "text/x-python",
   "name": "python",
   "nbconvert_exporter": "python",
   "pygments_lexer": "ipython2",
   "version": "2.7.6"
  }
 },
 "nbformat": 4,
 "nbformat_minor": 5
}
